{
  "nbformat": 4,
  "nbformat_minor": 0,
  "metadata": {
    "colab": {
      "provenance": [],
      "include_colab_link": true
    },
    "kernelspec": {
      "name": "python3",
      "display_name": "Python 3"
    },
    "language_info": {
      "name": "python"
    }
  },
  "cells": [
    {
      "cell_type": "markdown",
      "metadata": {
        "id": "view-in-github",
        "colab_type": "text"
      },
      "source": [
        "<a href=\"https://colab.research.google.com/github/alisabourii/Colabs/blob/main/Notebook_2.ipynb\" target=\"_parent\"><img src=\"https://colab.research.google.com/assets/colab-badge.svg\" alt=\"Open In Colab\"/></a>"
      ]
    },
    {
      "cell_type": "markdown",
      "source": [
        "# Notebook 2 - Numbers, Strings, Variables, and Assignment Statements (Sayılar, Dizgiler, Değişkenler ve Atama İfadeleri)\n"
      ],
      "metadata": {
        "id": "tCDCu3_fJEhv"
      }
    },
    {
      "cell_type": "markdown",
      "source": [
        "Bu defteri kendi Google Drive'ına kaydetmek için menü çubuğundan\n",
        "\n",
        "File → Save a copy in Drive seçeneğini kullanabilirsin.\n",
        "\n",
        "Bu derste öğreneceklerin:\n",
        "*   Python'da çalışabileceğin temel veri türleri\n",
        "*   Değişkenlerin ne olduğu ve neden kullanışlı oldukları\n",
        "*   Python'da değişkenlerin nasıl oluşturulup değer atandığı\n",
        "\n"
      ],
      "metadata": {
        "id": "sV-HGA-yJkuc"
      }
    },
    {
      "cell_type": "markdown",
      "source": [
        "##Veri Türleri\n",
        "\n",
        "Python birkaç temel veri türü ile çalışmarktadır.\n",
        "En yaygın olan üç tanesi:\n",
        "\n",
        "*   Sayısal türler (numeric types)\n",
        "    - Tamsayılar (integers)\n",
        "    - Ondalıklı sayılar (floating point numbers)\n",
        "*   Karakter dizileri (character strings)"
      ],
      "metadata": {
        "id": "CYd8XiMWJ3Oz"
      }
    },
    {
      "cell_type": "markdown",
      "source": [
        "###Sayısal Türler\n",
        "\n",
        "Python iki ana sayısal türü destekler:\n",
        "* int → tamsayı, örneğin:\n",
        "  * `2024`\n",
        "  * `-999999999999`\n",
        "* float → ondalıklı sayı, örneğin:\n",
        "  * `3.14159`\n",
        "  * `3.8 * 10**6`\n",
        "\n",
        "Genellikle hangi türü kullanacağını senin belirlemene gerek yoktur — Python bunu kendisi halleder.\n",
        "Ondalık nokta (.) Python’a sayının float olduğunu söyler."
      ],
      "metadata": {
        "id": "I9kQVvUFKSLB"
      }
    },
    {
      "cell_type": "markdown",
      "source": [
        "#### Sayısal / Aritmetik Operatörler\n",
        "\n",
        "| operator | Sayılar Üzerinde İşlem | Dizgiler Üzerinde İşlem |\n",
        "|----------|----------------------|---------------------|\n",
        "+|Toplama|Birleştirme (concatenation)\n",
        "-|Çıkarma|Tanımsız\n",
        "*|Çarpma|Tekrarlama\n",
        "//|Tamsayı bölme|Tanımsız\n",
        "/|Ondalıklı bölme|Tanımsız\n",
        "%|Mod (kalan)|Tanımsız\n",
        "**|Üs alma|Tanımsız\n",
        "()|Öncelik|Öncelik\n",
        "\n",
        "\n",
        "Tamsayı ve float karıştırıldığında sonuç float olur.\n",
        "Örneğin: `2024 * 3.14` sonucu bir ondalıklı sayıdır."
      ],
      "metadata": {
        "id": "X7SrRwkBKpgP"
      }
    },
    {
      "cell_type": "markdown",
      "source": [
        "Bazı operatörleri deneyelim\n",
        "\n",
        "```\n",
        "print(5 - 6)  \n",
        "print(8 * 9)\n",
        "print(6 // 2)\n",
        "print(6 / 2)\n",
        "print(5.0 / 2)\n",
        "print(5 % 2)  \n",
        "print(2 * 10 + 3)  \n",
        "print(2 * (10 + 3))  \n",
        "print(2 ** 4)\n",
        "```\n",
        "Beklenmedik bir çıktı var mıydı?"
      ],
      "metadata": {
        "id": "wBCNJqkBLTjG"
      }
    },
    {
      "cell_type": "code",
      "execution_count": null,
      "metadata": {
        "id": "DG1L7Z-iJDoX",
        "colab": {
          "base_uri": "https://localhost:8080/"
        },
        "outputId": "c1061611-56da-46fd-9f87-a82304eefbfb"
      },
      "outputs": [
        {
          "output_type": "stream",
          "name": "stdout",
          "text": [
            "-1\n",
            "72\n",
            "3\n",
            "3.0\n",
            "2.5\n",
            "1\n",
            "23\n",
            "26\n",
            "16\n"
          ]
        }
      ],
      "source": [
        "print(5 - 6)\n",
        "print(8 * 9)\n",
        "print(6 // 2)\n",
        "print(6 / 2)\n",
        "print(5.0 / 2)\n",
        "print(5 % 2)\n",
        "print(2 * 10 + 3)\n",
        "print(2 * (10 + 3))\n",
        "print(2 ** 4)"
      ]
    },
    {
      "cell_type": "markdown",
      "source": [
        "###Dizgiler (Strings)\n",
        "\n",
        "#### Temel Kurallar\n",
        "\n",
        "\n",
        "\n",
        "\n",
        "* Dizgi (string) bir çift tırnak içine alınmış karakter dizisidir.\n",
        "* Dizgiler, karakterlerden oluşan bir diziyi tek bir birim olarak işler.\n",
        "* Dizgiler, “sıra (sequence)” adı verilen genel bir veri türü ailesine dahildir.\n",
        "* Tek veya çift tırnak kullanılabilir ama tutarlı olmalısın.\n",
        "* `\"bu olur\"` ve `'bu da olur'`\n",
        "* `\"bu olmaz'`, `'bu da olmaz\"`"
      ],
      "metadata": {
        "id": "kk0uAfjtLhqA"
      }
    },
    {
      "cell_type": "markdown",
      "source": [
        "#### Dizgi İçinde Tırnak Kullanımı\n",
        "\n",
        "Dizgi içinde tek ya da çift tırnak nasıl kullanılır?\n",
        "\n",
        "Tek tırnak dizgisi içinde çift tırnak,\n",
        "\n",
        "```\n",
        "\"this string's fine\"\n",
        "'but this doesn't work'\n",
        "```\n",
        "çift tırnak dizgisi içinde tek tırnak kullanılabilir:\n",
        "\n",
        "```\n",
        "'but this string is \"A-OK\"'\n",
        "\"but this \"example\" fails\"\n",
        "```\n",
        "\n",
        "Alternatif olarak, ters bölü (backslash \\) ile tırnak “kaçırılabilir”:\n",
        "\n",
        "```\n",
        "'Adam\\'s string'\n",
        "\"I like \\\"The Office\\\"\"\n",
        "```"
      ],
      "metadata": {
        "id": "zhFXXZ9DL6a2"
      }
    },
    {
      "cell_type": "markdown",
      "source": [
        "#### Kaçış Dizileri (Escape Sequences)\n",
        "\n",
        "Özel karakterleri dizgilere gömmek için kullanılır.\n",
        "\n",
        "|Karakter|Kaçış Dizileri|\n",
        "|---------|---------------|\n",
        "|tab|\\t|\n",
        "|newline|\\n|\n",
        "|single quote|\\\\'|\n",
        "|double quote|\\\\\"|\n",
        "|backslash|\\\\\\\\|\n",
        "\n",
        "Bir sonraki adımda örneklerini inceleyin"
      ],
      "metadata": {
        "id": "crr5_eeEMjAz"
      }
    },
    {
      "cell_type": "code",
      "source": [
        "# Örnekler\n",
        "\n",
        "print(\"Bu derste ne yapmak lazım: \\\"çalışmak\\\".\")\n",
        "print('Derse bu kadar uzak \\t olmamalıyım')\n",
        "print('line1\\nline2\\nline3')\n",
        "print(\"field1\\tfield2\\tfield3\")\n",
        "print('c:\\\\directory\\\\file')\n",
        "print('Peş peşe yazılabilir:\\n1/1\\t1/2\\n2/1\\t2/2')"
      ],
      "metadata": {
        "id": "XT_NNpdHJgDb",
        "colab": {
          "base_uri": "https://localhost:8080/"
        },
        "outputId": "7a39ff7b-a7a7-4548-89a5-8fbace1105dd"
      },
      "execution_count": null,
      "outputs": [
        {
          "output_type": "stream",
          "name": "stdout",
          "text": [
            "Bu derste ne yapmak lazım: \"çalışmak\".\n",
            "Derse bu kadar uzak \t olmamalıyım\n",
            "line1\n",
            "line2\n",
            "line3\n",
            "field1\tfield2\tfield3\n",
            "c:\\directory\\file\n",
            "Peş peşe yazılabilir:\n",
            "1/1\t1/2\n",
            "2/1\t2/2\n"
          ]
        }
      ]
    },
    {
      "cell_type": "markdown",
      "source": [
        "#### Üç Tırnaklı Dizgiler (Triple Quoted Strings)\n",
        "\n",
        "Birden fazla satıra yayılan uzun dizgiler veya içinde hem ' hem \" bulunan dizgiler için kullanılır:\n"
      ],
      "metadata": {
        "id": "v5N3_H_nONTo"
      }
    },
    {
      "cell_type": "code",
      "source": [
        "longstr = \"\"\"\n",
        "    This is a triple quoted string.\n",
        "    It goes on for multiple lines.\n",
        "    It contains things like ' and \",\n",
        "    which would normally have to be escaped,\n",
        "    but anything goes in a triple quoted string.\n",
        "\"\"\"\n",
        "print(longstr)"
      ],
      "metadata": {
        "id": "jTa2odabOUaT",
        "colab": {
          "base_uri": "https://localhost:8080/"
        },
        "outputId": "c26d097c-fdb7-423b-8e2b-fe91af58c3e7"
      },
      "execution_count": null,
      "outputs": [
        {
          "output_type": "stream",
          "name": "stdout",
          "text": [
            "\n",
            "    This is a triple quoted string.\n",
            "    It goes on for multiple lines.\n",
            "    It contains things like ' and \",\n",
            "    which would normally have to be escaped,\n",
            "    but anything goes in a triple quoted string.\n",
            "\n"
          ]
        }
      ]
    },
    {
      "cell_type": "markdown",
      "source": [
        "#### Alıştırma\n",
        "\n",
        "Aşağıdaki ifadelerin geçerli Python dizgisi olup olmadığını belirtin:\n",
        "1. `'Go ahead, make my day.'`\n",
        "1. `\"There's no place like home.\"`\n",
        "1. `'Frankly my dear, I don't give a damn'`\n",
        "1. `'Say \"hello\" to my little friend'`\n",
        "1. `\"You\\'re gonna need a bigger boat\"`\n",
        "1. `'\"You talkin' to me?\"'`\n",
        "1. `'Fasten your seatbelts, it\\'s going to be a bumpy night'`\n",
        "1. `'''Striker: \"Surely you can't be serious!\" Rumack: \"I am serious... and don't call me Shirley\".'''`\n",
        "1. `\"You had me at \"hello\".\"`"
      ],
      "metadata": {
        "id": "-WObz7i5Oi7p"
      }
    },
    {
      "cell_type": "code",
      "source": [
        "print('''Striker: \"Surely you can't be serious!\" Rumack: \"I am serious... and don't call me Shirley\".''')"
      ],
      "metadata": {
        "colab": {
          "base_uri": "https://localhost:8080/"
        },
        "id": "ZvlDxmLXmcoP",
        "outputId": "affab691-2063-43da-d05d-9e11903c7607"
      },
      "execution_count": 27,
      "outputs": [
        {
          "output_type": "stream",
          "name": "stdout",
          "text": [
            "Striker: \"Surely you can't be serious!\" Rumack: \"I am serious... and don't call me Shirley\".\n"
          ]
        }
      ]
    },
    {
      "cell_type": "markdown",
      "source": [
        "#### Dizgi (String) Operatörleri\n",
        "\n",
        "`+` ve `*` izgiler üzerinde de kullanılabilir:\n",
        "\n",
        "Aşağıdaki kodu çalıştırın. Hata hakkında ne söyleyebiliriz?\n"
      ],
      "metadata": {
        "id": "039ae1HnOuI3"
      }
    },
    {
      "cell_type": "code",
      "source": [
        "print(\"Cat\")\n",
        "print(\"Cat\", \"videos\")\n",
        "print(\"Cat\" + 3)"
      ],
      "metadata": {
        "id": "DQOuy9cXO2Kt",
        "colab": {
          "base_uri": "https://localhost:8080/",
          "height": 211
        },
        "outputId": "1d3fc533-d93f-4ae0-ee2b-d4e8040054e3"
      },
      "execution_count": 28,
      "outputs": [
        {
          "output_type": "stream",
          "name": "stdout",
          "text": [
            "Cat\n",
            "Cat videos\n"
          ]
        },
        {
          "output_type": "error",
          "ename": "TypeError",
          "evalue": "can only concatenate str (not \"int\") to str",
          "traceback": [
            "\u001b[0;31m---------------------------------------------------------------------------\u001b[0m",
            "\u001b[0;31mTypeError\u001b[0m                                 Traceback (most recent call last)",
            "\u001b[0;32m/tmp/ipython-input-3819880184.py\u001b[0m in \u001b[0;36m<cell line: 0>\u001b[0;34m()\u001b[0m\n\u001b[1;32m      1\u001b[0m \u001b[0mprint\u001b[0m\u001b[0;34m(\u001b[0m\u001b[0;34m\"Cat\"\u001b[0m\u001b[0;34m)\u001b[0m\u001b[0;34m\u001b[0m\u001b[0;34m\u001b[0m\u001b[0m\n\u001b[1;32m      2\u001b[0m \u001b[0mprint\u001b[0m\u001b[0;34m(\u001b[0m\u001b[0;34m\"Cat\"\u001b[0m\u001b[0;34m,\u001b[0m \u001b[0;34m\"videos\"\u001b[0m\u001b[0;34m)\u001b[0m\u001b[0;34m\u001b[0m\u001b[0;34m\u001b[0m\u001b[0m\n\u001b[0;32m----> 3\u001b[0;31m \u001b[0mprint\u001b[0m\u001b[0;34m(\u001b[0m\u001b[0;34m\"Cat\"\u001b[0m \u001b[0;34m+\u001b[0m \u001b[0;36m3\u001b[0m\u001b[0;34m)\u001b[0m\u001b[0;34m\u001b[0m\u001b[0;34m\u001b[0m\u001b[0m\n\u001b[0m",
            "\u001b[0;31mTypeError\u001b[0m: can only concatenate str (not \"int\") to str"
          ]
        }
      ]
    },
    {
      "cell_type": "code",
      "source": [
        "print(33 + 33)\n",
        "print(type(33+33))\n",
        "print(\"33\" + \"33\")\n",
        "print(type(\"33\" + \"33\"))"
      ],
      "metadata": {
        "id": "rY4fnGZjO-Ru",
        "colab": {
          "base_uri": "https://localhost:8080/"
        },
        "outputId": "5e28a428-ee9c-45d6-d7c1-8d6a3f504322"
      },
      "execution_count": 29,
      "outputs": [
        {
          "output_type": "stream",
          "name": "stdout",
          "text": [
            "66\n",
            "<class 'int'>\n",
            "3333\n",
            "<class 'str'>\n"
          ]
        }
      ]
    },
    {
      "cell_type": "code",
      "source": [
        "print(33 * 3)\n",
        "print(\"Python\" * 3)"
      ],
      "metadata": {
        "id": "1-pWdjoxPBCC",
        "colab": {
          "base_uri": "https://localhost:8080/"
        },
        "outputId": "305e24cd-c4c5-4599-8914-0425827e0133"
      },
      "execution_count": 30,
      "outputs": [
        {
          "output_type": "stream",
          "name": "stdout",
          "text": [
            "99\n",
            "PythonPythonPython\n"
          ]
        }
      ]
    },
    {
      "cell_type": "markdown",
      "source": [
        "#### Dizgiye Dönüştürme\n",
        "\n",
        "Sayısal bir değeri dizgiye çevirmek için `str()`  fonksiyonu kullanılır:"
      ],
      "metadata": {
        "id": "a6kCKbbNPC8X"
      }
    },
    {
      "cell_type": "code",
      "source": [
        "print(\"Cat\" + str(3))\n",
        "print(\"Cat\" + 3)"
      ],
      "metadata": {
        "id": "zcDfQklaPL-S",
        "colab": {
          "base_uri": "https://localhost:8080/",
          "height": 176
        },
        "outputId": "d2bb263d-016e-45d0-b8bd-7a19f62089db"
      },
      "execution_count": 33,
      "outputs": [
        {
          "output_type": "stream",
          "name": "stdout",
          "text": [
            "Cat3\n"
          ]
        },
        {
          "output_type": "error",
          "ename": "TypeError",
          "evalue": "can only concatenate str (not \"int\") to str",
          "traceback": [
            "\u001b[0;31m---------------------------------------------------------------------------\u001b[0m",
            "\u001b[0;31mTypeError\u001b[0m                                 Traceback (most recent call last)",
            "\u001b[0;32m/tmp/ipython-input-1114677204.py\u001b[0m in \u001b[0;36m<cell line: 0>\u001b[0;34m()\u001b[0m\n\u001b[1;32m      1\u001b[0m \u001b[0mprint\u001b[0m\u001b[0;34m(\u001b[0m\u001b[0;34m\"Cat\"\u001b[0m \u001b[0;34m+\u001b[0m \u001b[0mstr\u001b[0m\u001b[0;34m(\u001b[0m\u001b[0;36m3\u001b[0m\u001b[0;34m)\u001b[0m\u001b[0;34m)\u001b[0m\u001b[0;34m\u001b[0m\u001b[0;34m\u001b[0m\u001b[0m\n\u001b[0;32m----> 2\u001b[0;31m \u001b[0mprint\u001b[0m\u001b[0;34m(\u001b[0m\u001b[0;34m\"Cat\"\u001b[0m \u001b[0;34m+\u001b[0m \u001b[0;36m3\u001b[0m\u001b[0;34m)\u001b[0m\u001b[0;34m\u001b[0m\u001b[0;34m\u001b[0m\u001b[0m\n\u001b[0m",
            "\u001b[0;31mTypeError\u001b[0m: can only concatenate str (not \"int\") to str"
          ]
        }
      ]
    },
    {
      "cell_type": "markdown",
      "source": [
        "#### Dizgi Metotları (String Methods)\n",
        "\n",
        "* Metot: Belirli bir veri türüne bağlı, tekrar kullanılabilir bir kod parçasıdır.\n",
        "\n",
        "* Noktadan (.) sonra çağrılır: `mystr.upper()`.\n",
        "\n",
        "* Metot veri tipine özel kullanılmaktadır.\n",
        "Ör. `.upper()` string için kullanılırken, integer ya da float için kullanılmaz."
      ],
      "metadata": {
        "id": "Bz58U7JZPZS6"
      }
    },
    {
      "cell_type": "code",
      "source": [
        "print(\"Cat\".upper())\n",
        "print(\"Cat\".lower())\n",
        "print(\"the lord of the rings\".title())"
      ],
      "metadata": {
        "id": "p4sGyT8uPsA4",
        "colab": {
          "base_uri": "https://localhost:8080/"
        },
        "outputId": "139f57ad-a5b4-4109-c41f-edd277a73ecf"
      },
      "execution_count": 34,
      "outputs": [
        {
          "output_type": "stream",
          "name": "stdout",
          "text": [
            "CAT\n",
            "cat\n",
            "The Lord Of The Rings\n"
          ]
        }
      ]
    },
    {
      "cell_type": "markdown",
      "source": [
        "## Değişkenler (Variables)"
      ],
      "metadata": {
        "id": "6Ju48Xu8QPVO"
      }
    },
    {
      "cell_type": "markdown",
      "source": [
        "Değişkenler, bir veri değerine verilen isimlerdir.\n"
      ],
      "metadata": {
        "id": "4_gomYnMQSSj"
      }
    },
    {
      "cell_type": "code",
      "source": [
        "name = 'Adam'\n",
        "print(name)\n",
        "name = 3.14\n",
        "print(name)"
      ],
      "metadata": {
        "id": "TI4-tCb3QUx-"
      },
      "execution_count": null,
      "outputs": []
    },
    {
      "cell_type": "markdown",
      "source": [
        "### Değişken İsimlendirme Kuralları\n",
        "\n",
        "Daha önce bahsettiğimiz üzere değişken belirlerken bazı kurallar vardır.\n",
        "\n",
        "* Harf (letter) veya _ (alt çizgi, underscore) ile başlar.\n",
        "* Devamında harf, rakam veya _ olabilir.\n",
        "* Büyük/küçük harf fark yaratır:\n",
        "name, Name, NAME farklı değişkenlerdir.\n",
        "* Genellikle ingilizce harfler kullanılır. Türkçe karakterleri kullanmayın."
      ],
      "metadata": {
        "id": "yCQ49J1qQcp0"
      }
    },
    {
      "cell_type": "markdown",
      "source": [
        "#### Challenge\n",
        "\n",
        "Aşağıdaki Python değişken isimlerinin hangisi doğrudur?\n",
        "```\n",
        "average = 1\n",
        "Max = 1\n",
        "LadyGaGa = 1  \n",
        "_Lady_Ga_Ga = 1\n",
        "FiftyYardLine = 1    \n",
        "50_yard_line = 1  \n",
        "yard_line_50 = 1  \n",
        "raise = 1  \n",
        "my-cat-is-awesome = 1\n",
        "my_cat_is_awesome = 1  \n",
        "```"
      ],
      "metadata": {
        "id": "QG2iLcjoQyt0"
      }
    },
    {
      "cell_type": "markdown",
      "source": [
        "### Ayrılmış Kelimeler (Reserved Words)\n",
        "\n",
        "Aşağıdaki kelimeler Python’da özel anlam taşır, değişken ismi olarak kullanılamazlar:\n",
        "\n",
        "> ```and, as, assert, async, await, break, class, continue, def, del, elif, else, except, False, finally, for, from, global, if, import, in, is, lambda, nonlocal, None, not, or, pass, raise, return, True, try, while, with, yield```"
      ],
      "metadata": {
        "id": "vit2BI-9R7hO"
      }
    },
    {
      "cell_type": "markdown",
      "source": [
        "### Sabitler (Constants) ve Değişkenler (Variables)\n",
        "\n",
        "* Sabit değerler (\"adam\", 2024 gibi) değişmez.\n",
        "* Değişkenler ise zamanla farklı değerler alabilir.\n"
      ],
      "metadata": {
        "id": "0gTf9rr2SBbi"
      }
    },
    {
      "cell_type": "code",
      "source": [
        "customer_id = \"1234\"\n",
        "account_balance = 1000\n",
        "print(\"customer id:\", customer_id, \"account balance:\", account_balance)"
      ],
      "metadata": {
        "id": "BhV2Eb2oSOdx"
      },
      "execution_count": null,
      "outputs": []
    },
    {
      "cell_type": "code",
      "source": [
        "account_balance = account_balance + 100\n",
        "print(\"customer id:\", customer_id, \"account balance:\", account_balance)"
      ],
      "metadata": {
        "id": "F8bxmGCpSO__"
      },
      "execution_count": null,
      "outputs": []
    },
    {
      "cell_type": "markdown",
      "source": [
        "### F-strings\n",
        "\n",
        "Değişkenleri, değerleri ve stringleri sıklıkla birleştirmemiz gerekir. Örneğin, aşağıdaki değişkenlerimiz varsa:\n",
        "\n",
        "- `customer_id`\n",
        "- `account_balance`\n",
        "\n",
        "Yukarıdaki değerlerin her satırının özetlendiği bir rapor yazdırmak isteyebiliriz. Bunu şu şekilde yapabiliriz:\n",
        "\n",
        "```\n",
        "print(\"customer id: \", customer_id, \", account balance:\", account_balance)\n",
        "```\n",
        "şu şekilde çıktı üretir.\n",
        "```\n",
        "customer id:  123 , account balance: 17.9\n",
        "```\n",
        "\n",
        "Bu tür bir yapı biraz sıkıcı olabiliyor. Ayrıca, müşteri kimliği ile onu takip eden virgül arasındaki boşluk istenmeyen bir durumdur.\n",
        "\n",
        "Python'a nispeten yeni eklenen f-stringleri, bu soruna daha basit ve daha okunabilir bir çözüm sunuyor. Bir dizenin başına `f` karakterini eklerseniz, dizeye sihirli güçler kazandırırsınız. Özellikle, sting, süslü parantezler içindeki değişkenleri **interpole etme** yeteneğine sahiptir. Önceki `print` ifadesini bir f-dizesi kullanarak şu şekilde ifade edebiliriz:\n",
        "\n",
        "```\n",
        "print(f\"customer id: {customer_id} account balance: {account_balance}\")\n",
        "```\n",
        "\n",
        "Bu yöntem daha kısa, daha az sıkıcı, okunması ve yazılması daha kolay ve iki alan arasındaki virgülle ilgili biçimlendirme sorununu çözüyor.\n",
        "\n",
        "Süslü parantezlerin içine herhangi bir Python kodu yerleştirebileceğinizi unutmayın, bu nedenle bu teknik oldukça etkilidir. Python'a alıştığınızda, f-dizelerini kullanmanın birçok harika yolunu bulacaksınız."
      ],
      "metadata": {
        "id": "x8FKfNW0SM7z"
      }
    },
    {
      "cell_type": "markdown",
      "source": [
        "## Atama İfadeleri (Assignment Statements)"
      ],
      "metadata": {
        "id": "iaxPClEITfy5"
      }
    },
    {
      "cell_type": "markdown",
      "source": [
        "Atama ifadeleri, bir değişken adını basit veya karmaşık bir değerle ilişkilendirmek için kullanılır.\n",
        "\n",
        "Bir atama ifadesinin genel biçimi şu şekildedir:  \n",
        "\n",
        "    variable_name = 123\n",
        "\n",
        "Eğer bir değişken daha önce oluşturulmamışsa, ona bir değer atadığınızda Python otomatik olarak bu değişkeni oluşturur.\n",
        "Eğer zaten var olan bir değişkene yeni bir değer atarsanız, Python o değişkenin mevcut değerini sizin atadığınız yeni değerle değiştirir.\n",
        "\n",
        "### ÖRnekler\n",
        "\n",
        "    instructor = 'adam'         # string value\n",
        "    instructor = 'eve' # same name, different string value\n",
        "    instructor = 42             # same name, integer value\n",
        "    todays_high_temp = 71.3     # diff name, floating point value\n",
        "\n",
        "Bir sonraki adımda siz deneyin"
      ],
      "metadata": {
        "id": "dMFpVuFITiXK"
      }
    },
    {
      "cell_type": "code",
      "source": [
        "a = 0\n",
        "print('a =', a)\n",
        "a = 42\n",
        "print('a =', a)\n",
        "a = 3.14159\n",
        "print('a =', a)\n",
        "a = \"Marc\"\n",
        "print('a =', a)\n",
        "\n",
        "b = 42\n",
        "print('a =', a, 'b =', b)\n",
        "\n",
        "a = b\n",
        "print('a =', a, 'b =', b)\n",
        "\n",
        "b = 43\n",
        "print('a =', a, 'b =', b)\n"
      ],
      "metadata": {
        "id": "Nh5FAWIiT9UN"
      },
      "execution_count": null,
      "outputs": []
    },
    {
      "cell_type": "markdown",
      "source": [
        "### Kullanım Örneği\n",
        "\n",
        "Hadi 9’un ilk 9 katını yazdıralım...\n"
      ],
      "metadata": {
        "id": "6Ktv7TqXT_Yf"
      }
    },
    {
      "cell_type": "code",
      "source": [
        "# Sıkıcı versiyonu\n",
        "\n",
        "print(1*9)\n",
        "print(2*9)\n",
        "print(3*9)\n",
        "print(4*9)\n",
        "print(5*9)\n",
        "print(6*9)\n",
        "print(7*9)\n",
        "print(8*9)\n",
        "print(9*9)"
      ],
      "metadata": {
        "id": "SpXt2MDDUFlF",
        "colab": {
          "base_uri": "https://localhost:8080/"
        },
        "outputId": "727f24f5-5223-454d-e300-b1067f219adc"
      },
      "execution_count": null,
      "outputs": [
        {
          "output_type": "stream",
          "name": "stdout",
          "text": [
            "9\n",
            "18\n",
            "27\n",
            "36\n",
            "45\n",
            "54\n",
            "63\n",
            "72\n",
            "81\n"
          ]
        }
      ]
    },
    {
      "cell_type": "code",
      "source": [
        "# Nicer version...\n",
        "\n",
        "factor = 9\n",
        "print(1*factor)\n",
        "print(2*factor)\n",
        "print(3*factor)\n",
        "print(4*factor)\n",
        "print(5*factor)\n",
        "print(6*factor)\n",
        "print(7*factor)\n",
        "print(8*factor)\n",
        "print(9*factor)"
      ],
      "metadata": {
        "id": "Hr6nvWdyUIx0"
      },
      "execution_count": null,
      "outputs": []
    },
    {
      "cell_type": "markdown",
      "source": [
        "Bu neden daha iyi? Dokuz yerine sekizlerin katlarını yazdırma gereksinimini düşünün. İlk örnekte kaç satırı değiştirmeniz gerekir? Peki ikinci örnekte?\n",
        "\n",
        "İkinci örnek, kodun güncellenmesini çok daha kolay hale getirmek için bir değişken aracılığıyla yönlendirme (redirection) kullanır.\n",
        "Bu, yazılım mühendisliğinde çok güçlü ve önemli bir kavramdır."
      ],
      "metadata": {
        "id": "UpnoCXBdUT26"
      }
    },
    {
      "cell_type": "code",
      "source": [
        "# Coming soon...\n",
        "\n",
        "factor = 8\n",
        "for i in range(1, 9):\n",
        "  print(i * factor)"
      ],
      "metadata": {
        "id": "1AzZAWNBUZ8U",
        "colab": {
          "base_uri": "https://localhost:8080/"
        },
        "outputId": "af75d08a-bb73-4234-8d33-0b5751b85774"
      },
      "execution_count": null,
      "outputs": [
        {
          "output_type": "stream",
          "name": "stdout",
          "text": [
            "8\n",
            "16\n",
            "24\n",
            "32\n",
            "40\n",
            "48\n",
            "56\n",
            "64\n"
          ]
        }
      ]
    },
    {
      "cell_type": "markdown",
      "source": [
        "## Temel Noktalar\n",
        "- Python’daki temel veri türleri tamsayılar (integers), kayan noktalı sayılar (floating-point numbers) ve dizgilerdir (strings) (başka türler de vardır ancak biz bunlarla başlayacağız).\n",
        "- Bir değeri bellekte saklamak için `variable = value` şeklinde bir ifadeyle değişkene değer atayın.\n",
        "- Değişkenler, ilk kez onlara bir değer atandığında kendiliğinden oluşturulur."
      ],
      "metadata": {
        "id": "dhbJrbEzUcns"
      }
    },
    {
      "cell_type": "markdown",
      "source": [
        "## Alıştırmalar"
      ],
      "metadata": {
        "id": "Nop4A4xHUzg_"
      }
    },
    {
      "cell_type": "markdown",
      "source": [
        "### Problem 1\n",
        "\n",
        "Kullanıcıdan adını isteyin ve ardından şu şekilde ekrana yazdırın:\n",
        "“Tanıştığıma memnun oldum, <isim>!”"
      ],
      "metadata": {
        "id": "WLHjrMf4VA0z"
      }
    },
    {
      "cell_type": "code",
      "source": [
        "#Kodu buraya yazın\n",
        "ad = input(\"Adınızı giriniz: \")\n",
        "print(ad,\"Tanıştığıma memnun oldum, !\")"
      ],
      "metadata": {
        "id": "rRYmWqMtVo0N",
        "colab": {
          "base_uri": "https://localhost:8080/"
        },
        "outputId": "d4893b8c-e1b2-4791-e196-25496069ceed"
      },
      "execution_count": null,
      "outputs": [
        {
          "output_type": "stream",
          "name": "stdout",
          "text": [
            "Adınızı giriniz: Ali\n",
            "Ali Tanıştığıma memnun oldum, !\n"
          ]
        }
      ]
    },
    {
      "cell_type": "code",
      "source": [
        "#@title Cevabı görmek için iki kere tıklayın\n",
        "\n",
        "name = input ('What is your name? ')\n",
        "print ('Nice to meet you,', name +'!')"
      ],
      "metadata": {
        "cellView": "form",
        "id": "tbPsgF9WUcMv"
      },
      "execution_count": null,
      "outputs": []
    },
    {
      "cell_type": "markdown",
      "source": [
        "### Problem 2\n",
        "\n",
        "Kullanıcıdan köpeğinin yaşını isteyin ve bunu insan yaşı cinsinden şu biçimde ekrana yazdırın:\n",
        "\n",
        "X köpek yılı = Y insan yılı."
      ],
      "metadata": {
        "id": "ksQZwjO3VizU"
      }
    },
    {
      "cell_type": "code",
      "source": [
        "#Kodu buraya yazın\n",
        "kopek_yas = int(input(\" köpeğinizin yaşını giriniz? \"))\n",
        "print(kopek_yas*5,\" köpek yılı =\",kopek_yas,\"insan yılı.\")"
      ],
      "metadata": {
        "id": "d3elGMkmVrdv",
        "colab": {
          "base_uri": "https://localhost:8080/"
        },
        "outputId": "dcd8f5ae-5157-4820-fa25-0fc7a114e7d5"
      },
      "execution_count": null,
      "outputs": [
        {
          "output_type": "stream",
          "name": "stdout",
          "text": [
            " köpeğinizin yaşını giriniz? 3\n",
            "15  köpek yılı = 3 insan yılı.\n"
          ]
        }
      ]
    },
    {
      "cell_type": "code",
      "source": [
        "#@title Cevabı görmek için iki kere tıklayın\n",
        "\n",
        "dog_to_people_years = 7\n",
        "dog_age = input('How old is your dog? ')\n",
        "people_age = int(dog_age) * dog_to_people_years\n",
        "print(dog_age,'dog years =',  str(people_age), 'people years.')"
      ],
      "metadata": {
        "cellView": "form",
        "id": "6Ifnz-fMVvIY"
      },
      "execution_count": null,
      "outputs": []
    },
    {
      "cell_type": "markdown",
      "source": [
        "### Problem 3\n",
        "\n",
        "Belirli bir gün sayısındaki toplam saat miktarını hesaplayan bir program yazın.\n",
        "Gün sayısı bir değişkene atanmış olmalıdır."
      ],
      "metadata": {
        "id": "A3buQSImWB0u"
      }
    },
    {
      "cell_type": "code",
      "source": [
        "#Kodu buraya yazın\n",
        "gunSayisi = int(input(\"Gün sayınızı giriniz: \"))\n",
        "tplSaat = 0\n",
        "tplSaat += gunSayisi*24\n",
        "print(\"Toplam Süre:\",tplSaat)"
      ],
      "metadata": {
        "id": "vRPp4KyTWB57",
        "colab": {
          "base_uri": "https://localhost:8080/"
        },
        "outputId": "53f9c7b5-2961-49b4-cbf9-bb9ba1bdf44c"
      },
      "execution_count": 8,
      "outputs": [
        {
          "output_type": "stream",
          "name": "stdout",
          "text": [
            "Gün sayınızı giriniz: 3\n",
            "Toplam Süre: 72\n"
          ]
        }
      ]
    },
    {
      "cell_type": "code",
      "source": [
        "#@title Double click here to reveal solution\n",
        "\n",
        "days = 365\n",
        "hours = 24\n",
        "total_hours = days * hours\n",
        "msg = f'There are {total_hours} hours in {days} days.'\n",
        "print(msg)"
      ],
      "metadata": {
        "id": "Cngj2_TDWCQU",
        "cellView": "form"
      },
      "execution_count": null,
      "outputs": []
    },
    {
      "cell_type": "markdown",
      "source": [
        "###Problem 4\n",
        "\n",
        "Şimdiye kadar öğrendiğiniz tüm matematiksel operatörleri kullanan bir Python kodu yazın."
      ],
      "metadata": {
        "id": "PLI5g0dXWVmZ"
      }
    },
    {
      "cell_type": "code",
      "source": [
        "#Kodu buraya yazın\n",
        "sayi = int(input(\"bir sayı gırınız: \"))\n",
        "for i in range(1,sayi+1):\n",
        "  print(\"Mecut Iterator Sayı: \",i)\n",
        "  print(\"Toplama: \",i+1)\n",
        "  print(\"Çıkarma: \",i-1)\n",
        "  print(\"Bölme: \",i/2)\n",
        "  print(\"Çarpma: \",i*2)\n",
        "  print(\"Mod alma: \",i%2)\n",
        "  print(\"Powe: \",i**2)\n",
        "  print(\"--------------------------\")"
      ],
      "metadata": {
        "id": "9Qk0FW7QWVrT",
        "colab": {
          "base_uri": "https://localhost:8080/"
        },
        "outputId": "2389698a-2891-48d3-85c1-c971c44818e6"
      },
      "execution_count": 9,
      "outputs": [
        {
          "output_type": "stream",
          "name": "stdout",
          "text": [
            "bir sayı gırınız: 2\n",
            "Mecut Iterator Sayı:  1\n",
            "Toplama:  2\n",
            "Çıkarma:  0\n",
            "Bölme:  0.5\n",
            "Çarpma:  2\n",
            "Mod alma:  1\n",
            "Powe:  1\n",
            "--------------------------\n",
            "Mecut Iterator Sayı:  2\n",
            "Toplama:  3\n",
            "Çıkarma:  1\n",
            "Bölme:  1.0\n",
            "Çarpma:  4\n",
            "Mod alma:  0\n",
            "Powe:  4\n",
            "--------------------------\n"
          ]
        }
      ]
    },
    {
      "cell_type": "code",
      "source": [
        "#@title Double click here to reveal solution\n",
        "\n",
        "a = 2 + 3\n",
        "print(a)\n",
        "a = 3 - 2\n",
        "print(a)\n",
        "a = 2 * 3\n",
        "print(a)\n",
        "a = 2 / 3\n",
        "print(a)\n",
        "a = 2 // 3\n",
        "print(a)\n",
        "a = 2 % 3\n",
        "print(a)\n",
        "a = 2 ** 3\n",
        "print(a)\n",
        "a = (2 + 3) * 4\n",
        "print(a)"
      ],
      "metadata": {
        "cellView": "form",
        "id": "yLo9ylUtWVu-"
      },
      "execution_count": null,
      "outputs": []
    },
    {
      "cell_type": "markdown",
      "source": [
        "### Problem 5\n",
        "\n",
        "Tek bir ifadede, beş günlük bir çalışma haftasında günde 100 dolar kazanıyorsanız haftalık maaşınızı hesaplayıp ekrana yazdırın."
      ],
      "metadata": {
        "id": "5L6a2wwVWiqn"
      }
    },
    {
      "cell_type": "code",
      "source": [
        "print(5*100)"
      ],
      "metadata": {
        "id": "V7iraAlEWiwC",
        "colab": {
          "base_uri": "https://localhost:8080/"
        },
        "outputId": "8c326de7-af45-4d9d-d2bd-f813bdf54b55"
      },
      "execution_count": 11,
      "outputs": [
        {
          "output_type": "stream",
          "name": "stdout",
          "text": [
            "500\n"
          ]
        }
      ]
    },
    {
      "cell_type": "markdown",
      "source": [
        "Günlük kazancınızı bir değişkende saklayın ve bu değişkeni kullanarak haftalık maaşınızı hesaplayıp ekrana yazdırın."
      ],
      "metadata": {
        "id": "HnvVDqMlWt-T"
      }
    },
    {
      "cell_type": "code",
      "source": [
        "maasMik = 100\n",
        "total = maasMik*5\n",
        "print(total)"
      ],
      "metadata": {
        "id": "pcs0N-DuWiy4",
        "colab": {
          "base_uri": "https://localhost:8080/"
        },
        "outputId": "75fcbd80-d0a8-4c0c-e7a4-bd22cfb45024"
      },
      "execution_count": 16,
      "outputs": [
        {
          "output_type": "stream",
          "name": "stdout",
          "text": [
            "500\n"
          ]
        }
      ]
    },
    {
      "cell_type": "markdown",
      "source": [
        "Tebrikler – zam aldınız! Yeni günlük kazancınız 120 dolar.\n",
        "Günlük kazanç değişkenine yeni değeri atayın, ardından yeni haftalık maaşınızı hesaplayıp ekrana yazdırın."
      ],
      "metadata": {
        "id": "jBv1QIr4WxDZ"
      }
    },
    {
      "cell_type": "code",
      "source": [
        "maasMik = 120\n",
        "total = maasMik*5\n",
        "print(\"Yeni Maaş: \",total)"
      ],
      "metadata": {
        "id": "FYt7J13_Wvt_",
        "colab": {
          "base_uri": "https://localhost:8080/"
        },
        "outputId": "099e3f97-92ee-43e7-a5f8-ea3f3dad34e9"
      },
      "execution_count": 17,
      "outputs": [
        {
          "output_type": "stream",
          "name": "stdout",
          "text": [
            "Yeni Maaş:  600\n"
          ]
        }
      ]
    },
    {
      "cell_type": "markdown",
      "source": [
        "Bir haftadaki gün sayısını bir değişkende saklayın, ardından haftalık maaşınızı hesaplayıp ekrana yazdırın."
      ],
      "metadata": {
        "id": "UORSwO0sW7wU"
      }
    },
    {
      "cell_type": "code",
      "source": [
        "haftaGunSay = 5\n",
        "maasMik = 120\n",
        "total = haftaGunSay*maasMik\n",
        "print(total)"
      ],
      "metadata": {
        "id": "jFpCt5UhWvy8",
        "colab": {
          "base_uri": "https://localhost:8080/"
        },
        "outputId": "1a2b8fad-0efe-47c8-e01e-0a1d6d7d89ed"
      },
      "execution_count": 18,
      "outputs": [
        {
          "output_type": "stream",
          "name": "stdout",
          "text": [
            "600\n"
          ]
        }
      ]
    },
    {
      "cell_type": "markdown",
      "source": [
        "Yalnızca değişkenleri kullanarak haftalık, aylık ve yıllık maaşınızı hesaplayıp ekrana yazdırın.\n",
        "Haftada 5, ayda 20 ve yılda 240 iş günü olduğunu varsayın."
      ],
      "metadata": {
        "id": "Jjbm-rElXDJP"
      }
    },
    {
      "cell_type": "code",
      "source": [
        "hafta = 5\n",
        "ay = 20\n",
        "yil = 240\n",
        "maas = 120\n",
        "print(\"Haftada: \",hafta*maas)\n",
        "print(\"Ayda: \",ay*maas)\n",
        "print(\"Yılda: \",yil*maas)"
      ],
      "metadata": {
        "id": "r43lCDBqWv3X",
        "colab": {
          "base_uri": "https://localhost:8080/"
        },
        "outputId": "89f9967c-aa11-493a-b000-d78f5fb262df"
      },
      "execution_count": null,
      "outputs": [
        {
          "output_type": "stream",
          "name": "stdout",
          "text": [
            "Haftada:  600\n",
            "Ayda:  2400\n",
            "Yılda:  28800\n"
          ]
        }
      ]
    },
    {
      "cell_type": "markdown",
      "source": [
        "Adınızı, ikinci adınızı ve soyadınızı her biri ayrı bir satırda olacak şekilde ekrana yazdırın."
      ],
      "metadata": {
        "id": "VDVUAmG3XIFp"
      }
    },
    {
      "cell_type": "code",
      "source": [
        "print(\"Ali\\nEkbar\\nSABOURI\")"
      ],
      "metadata": {
        "id": "LkAKblOBXK6r",
        "colab": {
          "base_uri": "https://localhost:8080/"
        },
        "outputId": "efb7fc44-9890-477f-ee76-ac025f817cdd"
      },
      "execution_count": null,
      "outputs": [
        {
          "output_type": "stream",
          "name": "stdout",
          "text": [
            "Ali\n",
            "Ekbar\n",
            "SABOURI\n"
          ]
        }
      ]
    },
    {
      "cell_type": "markdown",
      "source": [
        "Print the your first, middle, and last name, all on one line.\n"
      ],
      "metadata": {
        "id": "EeTRRM1SXILX"
      }
    },
    {
      "cell_type": "code",
      "source": [
        "print(\"Ali Ekbar SABOURI\")"
      ],
      "metadata": {
        "id": "QGul2chfXPpi",
        "colab": {
          "base_uri": "https://localhost:8080/"
        },
        "outputId": "c010ea53-121c-4b69-8978-5e0e5dd14324"
      },
      "execution_count": null,
      "outputs": [
        {
          "output_type": "stream",
          "name": "stdout",
          "text": [
            "Ali Ekbar SABOURI\n"
          ]
        }
      ]
    },
    {
      "cell_type": "code",
      "source": [
        "#Çarpım Tablosu Core:\n",
        "for i in range(1, 11):\n",
        "  for j in range(1,11):\n",
        "    print(i*j,end=\"\\t\")\n",
        "  print()"
      ],
      "metadata": {
        "colab": {
          "base_uri": "https://localhost:8080/"
        },
        "id": "lBmZSwiolK93",
        "outputId": "b2648738-8f88-43ae-ad18-261b64855e88"
      },
      "execution_count": 26,
      "outputs": [
        {
          "output_type": "stream",
          "name": "stdout",
          "text": [
            "1\t2\t3\t4\t5\t6\t7\t8\t9\t10\t\n",
            "2\t4\t6\t8\t10\t12\t14\t16\t18\t20\t\n",
            "3\t6\t9\t12\t15\t18\t21\t24\t27\t30\t\n",
            "4\t8\t12\t16\t20\t24\t28\t32\t36\t40\t\n",
            "5\t10\t15\t20\t25\t30\t35\t40\t45\t50\t\n",
            "6\t12\t18\t24\t30\t36\t42\t48\t54\t60\t\n",
            "7\t14\t21\t28\t35\t42\t49\t56\t63\t70\t\n",
            "8\t16\t24\t32\t40\t48\t56\t64\t72\t80\t\n",
            "9\t18\t27\t36\t45\t54\t63\t72\t81\t90\t\n",
            "10\t20\t30\t40\t50\t60\t70\t80\t90\t100\t\n"
          ]
        }
      ]
    }
  ]
}