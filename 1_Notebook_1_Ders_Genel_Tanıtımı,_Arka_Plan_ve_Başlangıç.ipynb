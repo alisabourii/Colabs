{
  "nbformat": 4,
  "nbformat_minor": 0,
  "metadata": {
    "colab": {
      "provenance": [],
      "include_colab_link": true
    },
    "kernelspec": {
      "name": "python3",
      "display_name": "Python 3"
    },
    "language_info": {
      "name": "python"
    }
  },
  "cells": [
    {
      "cell_type": "markdown",
      "metadata": {
        "id": "view-in-github",
        "colab_type": "text"
      },
      "source": [
        "<a href=\"https://colab.research.google.com/github/alisabourii/Colabs/blob/main/1_Notebook_1_Ders_Genel_Tan%C4%B1t%C4%B1m%C4%B1%2C_Arka_Plan_ve_Bas%CC%A7lang%C4%B1c%CC%A7.ipynb\" target=\"_parent\"><img src=\"https://colab.research.google.com/assets/colab-badge.svg\" alt=\"Open In Colab\"/></a>"
      ]
    },
    {
      "cell_type": "markdown",
      "source": [
        "#Notebook 1 - Ders Genel Tanıtımı, Arka Plan ve Başlangıç\n",
        "\n",
        "**Bu not defterinin kendi kopyanızı oluşturmak için yukarıdaki menü çubuğundan Dosya -> Drive’a kopya kaydet seçeneğini seçebilirsiniz.**\n",
        "\n",
        "Bu derste öğrenecekleriniz:\n",
        "\n",
        "- Dersin genel tanıtımı\n",
        "- Bilgisayar, programlama ve Python hakkında kısa bir arka plan\n",
        "- Başlangıç için bazı temel materyaller"
      ],
      "metadata": {
        "id": "YNs2MEgS_lGP"
      }
    },
    {
      "cell_type": "markdown",
      "source": [
        "## Genel Tanıtım"
      ],
      "metadata": {
        "id": "s6w5IxN3DqhH"
      }
    },
    {
      "cell_type": "markdown",
      "source": [
        "###Ders Programı (Syllabus)\n",
        "Ders|Başlık\n",
        "------|-----\n",
        "Notebook 1|Ders Genel Tanıtımı, Arka Plan ve Başlangıç\n",
        "Notebook 2|Sayılar, String’ler, Değişkenler ve Atama İfadeleri\n",
        "Notebook 3|Boolean Karşılaştırmalar, Boolean Operatörleri ve İfadeler\n",
        "Notebook 4|Program Akışını Kontrol Etme ve Modüllerin Kullanımı\n",
        "Notebook 5|Daha Fazla String ve Döngüler\n",
        "Notebook 6|Fonksiyonlar, İsim Alanları (Namespaces) ve Modüller\n",
        "Notebook 7|Demetler (Tuples), Listeler ve Sözlükler (Dictionaries)\n",
        "Notebook 8|Dosyalar, Hatalar ve İstisnalar\n",
        "Notebook 9|Örnek Proje"
      ],
      "metadata": {
        "id": "3SnvxpuSDz_O"
      }
    },
    {
      "cell_type": "markdown",
      "source": [
        "###Kodlama Öğrenmeye Dair Bazı Düşünceler\n",
        "\n",
        "* Programlama yaratıcı bir faaliyettir.\n",
        "* Tarihte kodlama öğrenmek için hiç bu kadar iyi bir zaman olmamıştı.\n",
        "* Çalışmaya istekli olduğunuz sürece herkes programlama öğrenebilir.\n",
        "* Bunu biraz müzik aleti çalmayı öğrenmeye benzetebilirsiniz.\n",
        "* Dersler arasında pratik yapmak çok faydalıdır.\n",
        "* Kendinize zaman tanıyın.\n",
        "* Hatalar birer geri bildirimdir.\n",
        "\n",
        "* Takıldığınızda:\n",
        "  * Kendinizi suçlamayın.\n",
        "  * Bir mola verin.\n",
        "  * Benden veya bir arkadaşınızdan yardım istemekten çekinmeyin.\n",
        "\n",
        "* Profesyonel programcılar hakkında \"küçük bir sır”: **Kimse her şeyi bilmez — hepimiz sürekli Google, Stack Overflow, yapay zekâ ve diğer kaynakları kullanırız.**"
      ],
      "metadata": {
        "id": "X7Lm0BneGpqj"
      }
    },
    {
      "cell_type": "markdown",
      "source": [
        "###Notebook Nedir?\n",
        "\n",
        "* Şu an bir tanesine bakıyorsunuz.\n",
        "\n",
        "* Notebook’lar; talimatları okuyabileceğiniz ve kendi kod denemelerinizi tek bir bütünleşik ortamda yapabileceğiniz etkileşimli belgelerdir.\n",
        "\n",
        "* Bizim kullanacağımız notebook’lara [Jupyter](https://jupyter.org)\n",
        " denir ve bu notebook’ların barındırıldığı hizmet (notebook sağlayıcısı) ise [Google Colaboratory](https://colab.research.google.com/) ya da kısaca “Colab” olarak adlandırılır. Bu hizmet, tıpkı Google Dokümanlar gibi, Python notebook’larını ücretsiz olarak kullanmayı ve paylaşmayı kolaylaştırır."
      ],
      "metadata": {
        "id": "dVx5KpA7HwRZ"
      }
    },
    {
      "cell_type": "markdown",
      "source": [
        "Menü çubuğundan Araçlar -> Komut Paleti’ni seçerek bir Colab notebook içinde çalıştırabileceğiniz komutların listesini görebilirsiniz. Bu komutların çoğu sezgisel olarak adlandırılmıştır. Örneğin, notebook’unuzu Google Drive’a kaydetmek için komut paletinden şimdi “Save notebook” komutunu çalıştırabilirsiniz. Arama kutusuna “save” yazarak bu komutu hızlıca bulabilirsiniz.\n",
        "\n",
        "Bazı komutların ne işe yaradığından emin değilseniz endişelenmeyin. Şimdilik sadece böyle bir kaynağın mevcut olduğunun farkında olmanızı istiyorum."
      ],
      "metadata": {
        "id": "uVO9KYeWH845"
      }
    },
    {
      "cell_type": "markdown",
      "source": [
        "Ödev olarak, lütfen bu kısa videoyu izleyin ve ardından Colab’e hızlı bir tur yapın:\n",
        "\n",
        "Videoyu izleme: [Kısa Video](https://www.youtube.com/watch?v=inN8seMm7UI)\n",
        "\n",
        "Colab tura başlama: [Colab’e hızlı bir tur](https://colab.research.google.com/notebooks/intro.ipynb)."
      ],
      "metadata": {
        "id": "5Qgd2BZhIMZv"
      }
    },
    {
      "cell_type": "markdown",
      "source": [
        "Bir notebook oturumundan sonra çalışmanızı kaydetmek iyi bir fikirdir.\n",
        "Bunu, bir önceki hücrede yaptığınız gibi komut paletini kullanarak yapabilirsiniz; ancak bu sık kullanılan bir işlev olduğundan, Dosya -> Kaydet menü seçeneği aracılığıyla notebook’unuzu kaydetmenin daha kolay bir yolunu da göreceksiniz."
      ],
      "metadata": {
        "id": "Rm_NPEsnIYxX"
      }
    },
    {
      "cell_type": "markdown",
      "source": [
        "####Bir notebook’taki bir hücreyi çalıştırdığınızda, aslında nerede çalışır?"
      ],
      "metadata": {
        "id": "IXz_tl1WIgSX"
      }
    },
    {
      "cell_type": "markdown",
      "source": [
        "<img src=\"https://lh3.googleusercontent.com/LWgdIXTXW6nO0Wi5rGpEJoZ5Hd4EtXq8gm55_wyfIcfZOs07paFyWlrlFUyl9bRCKFKpS_I3nP6O4CN8vXwWG0bV2XtAUH4X2PRWiQ=w1200-l80-sg-rj-c0xffffff\">\n",
        "\n",
        "[Google Data Centers hakkında daha fazla bilgi](https://www.google.com/about/datacenters/)"
      ],
      "metadata": {
        "id": "7rmlwEP2ImSu"
      }
    },
    {
      "cell_type": "markdown",
      "source": [
        "## Arka Plan"
      ],
      "metadata": {
        "id": "EOfu8WBJP7ZB"
      }
    },
    {
      "cell_type": "markdown",
      "source": [
        "Cebinizdeki cep telefonu, 1969’da NASA’nın tamamının sahip olduğundan daha fazla hesaplama gücüne sahiptir. Onlar bu gücü iki astronotu aya göndermek için kullandılar. Biz ise Candy Crush oynamak için kullanıyoruz.\n",
        "\n",
        "Programlama öğrenmek, bilgisayarınızla harika şeyler inşa etme gücünü size kazandırır."
      ],
      "metadata": {
        "id": "AC2_BMaeP9f4"
      }
    },
    {
      "cell_type": "markdown",
      "source": [
        "### İşletim Sistemi Nedir?\n",
        "\n",
        "Bilgisayarın trafik polis gibi işlev gören bir yazılım katmanıdır.\n",
        "\n",
        "İşletim sistemleri şunları sağlar:\n",
        "\n",
        "- Temel sistem hizmetleri (ör. süreçler, bellek yönetimi, giriş/çıkış)\n",
        "- Alt seviye hizmetlerin soyutlanması (ör. klavye girişini okuma, dosya yazma, ağ üzerinden veri gönderme)\n",
        "- İzinler ve erişim denetimi (ör. oturum açma kimlik doğrulaması, bir kullanıcının dosyaya erişim yetkisinin doğrulanması)\n",
        "- Kaynak yönetimi (ör. birden fazla programın aynı işlemciyi paylaşması, aynı depolama aygıtına çoklu erişim)\n",
        "\n",
        "Yaygın işletim sistemleri: Windows, Linux, Android, iOS, MacOS"
      ],
      "metadata": {
        "id": "q4RalOfkQGLR"
      }
    },
    {
      "cell_type": "markdown",
      "source": [
        "### Algoritma Nedir?\n",
        "\n",
        "Bir problemi çözmek veya belirli bir sonuca ulaşmak için izlenen adım adım prosedürdür; özellikle bilgisayarlar tarafından uygulanır.\n",
        "\n",
        "Örnek Algoritma:\n",
        "\n",
        "**Menemen Yumurta Tarifi**\n",
        "**Malzemeler**\n",
        "* 3 adet orta boy domates\n",
        "* 3 adet yumurta\n",
        "* 2 adet yeşil biber\n",
        "* 2 yemek kaşığı zeytinyağı (veya tereyağı)\n",
        "* Tuz\n",
        "* Karabiber\n",
        "* (Opsiyonel) Kaşar peyniri, soğan\n",
        "\n",
        "**Yapılışı**\n",
        "\n",
        "* Biberleri doğrayın: Biberleri ince halkalar halinde doğrayın.\n",
        "* Yağı ısıtın: Tavaya zeytinyağı veya tereyağı koyun, kızdırın.\n",
        "* Biberleri soteleyin: Biberleri ekleyip hafif yumuşayana kadar kavurun.\n",
        "* Baharat ekleyin: Tuz ve karabiber serpin.\n",
        "* Yumurtaları kırın: Yumurtaları ister çırpıp dökün (homojen olsun diye), ister bütün halde kırın. Karıştırarak pişirin.\n",
        "* Domatesleri ekleyin: Küp doğranmış domatesleri tavaya ekleyin, suyunu çekene kadar pişirin.\n",
        "* Opsiyonel dokunuş: Pişmeye yakın kaşar peyniri ekleyebilirsiniz.\n",
        "\n",
        "Tıpkı programlar gibi, tariflerde de hatalar veya “bug”lar olabilir. Bu tarifte iki hata bulabilir misiniz?"
      ],
      "metadata": {
        "id": "VOOZ77PvUAMv"
      }
    },
    {
      "cell_type": "markdown",
      "source": [
        "###Program Nedir?\n",
        "\n",
        "- Bir algoritmanın, belirli bir programlama dilinde kodlanmış hâlidir.\n",
        "- Başka bir deyişle, bilgisayara bir şeyi nasıl yapacağını söyleyen talimatlar bütünüdür.\n",
        "- Programlama ifadelerine “kaynak kod” ya da kısaca “kod” denir.\n",
        "- “Kodlama” ise programlamanın başka bir adıdır."
      ],
      "metadata": {
        "id": "wDZS4fHVVoHe"
      }
    },
    {
      "cell_type": "markdown",
      "source": [
        "### Programlama Dili Nedir?\n",
        "\n",
        "- Algoritmaları sembolik olarak ifade etmeye yarayan kurallar bütünüdür.\n",
        "- Nasıl ki insan dilleri düşüncelerimizi ifade etmek için bir kurallar bütünü sağlıyorsa, programlama dilleri de benzer bir mantıkla çalışır.\n",
        "- Bilgisayarınızı bir problemi çözmek için kullanabilmeniz adına bir soyutlama katmanı sağlar.\n",
        "- Başkalarının çalışmalarını yeniden kullanabilmeniz için bir mekanizma sunar."
      ],
      "metadata": {
        "id": "Jf-6MUcFVxhl"
      }
    },
    {
      "cell_type": "markdown",
      "source": [
        "### Derlenen (Compiled) ve Yorumlanan (Interpreted) Diller\n",
        "\n",
        "<img height=300 src=\"https://miro.medium.com/v2/resize:fit:1400/format:webp/1*3Iy-ohRRXj3lChmEbQTxIQ.png\">  \n",
        "[Source](https://medium.com/from-the-scratch/stop-it-there-are-no-compiled-and-interpreted-languages-512f84756664)\n",
        "\n",
        "- Derleyici, bir dili başka bir dile dönüştürür (genellikle yüksek seviyeli bir dili, donanım tarafından doğrudan çalıştırılabilen düşük seviyeli koda çevirir).\n",
        "- Yorumlayıcı ise kaynak programı birer birer (satır satır) çalıştırır.\n",
        "- Taşınabilirlik ile performans arasında bir ödünleşim vardır:\n",
        "- Derlenen diller genellikle daha hızlıdır ancak daha az taşınabilirdir."
      ],
      "metadata": {
        "id": "JdMm3SGAV84u"
      }
    },
    {
      "cell_type": "markdown",
      "source": [
        "###Python Nedir ve Neden Öğrenilmeli?\n",
        "\n",
        "- 1989 yılında Hollandalı programcı Guido van Rossum tarafından geliştirilmiş yorumlanan bir programlama dilidir.\n",
        "- Güçlü ve ifade gücü yüksektir.\n",
        "- Öğrenmesi kolaydır.\n",
        "- Okunabilirliği yüksektir.\n",
        "- Özgürce erişilebilen açık kaynaklıdır.\n",
        "- Yaygın olarak kullanılır ve güçlü bir topluluk desteğine sahiptir.\n",
        "\n",
        "- Şu alanlar için iyi bir tercihtir:\n",
        "  - Yapay Zekâ (AI)\n",
        "  - Veri Bilimi (Data Science)\n",
        "  - Finans\n",
        "  - İstatistik\n",
        "  - Makine Öğrenmesi (Machine Learning)\n",
        "  - Sosyal Bilimler\n",
        "  - Web Geliştirme\n",
        "  - Eğitim\n",
        "\n",
        "- Özgeçmişinizde/CV’nizde bulunması faydalı bir beceridir.\n",
        "\n",
        "[Python Tarihi](https://www.techrepublic.com/article/python-is-eating-the-world-how-one-developers-side-project-became-the-hottest-programming-language-on-the-planet/)."
      ],
      "metadata": {
        "id": "ggv2hZzKWQpN"
      }
    },
    {
      "cell_type": "markdown",
      "source": [
        "Eylül 2024 itibarıyla, Google’da programlama dili eğitimleri için yapılan arama sıklıklarına dayanarak, dünya genelinde programlama dillerinin popülerliğinin bir görselleştirmesi:\n",
        "\n",
        "<img height=300 src=\"https://pypl.github.io/PYPL/All.png\">\n",
        "\n",
        "[Source](https://pypl.github.io/PYPL.html)\n",
        "\n",
        "Ve işte, zaman içerisinde Stack Overflow’daki soru sayısına bağlı olarak programlama dillerinin popülerliğini gösteren bir grafik:\n",
        "\n",
        "<img height=300 src=\"https://mco.dev/img/stackoverflow.svg\">\n",
        "\n",
        "[Source](https://trends.stackoverflow.co/?tags=java,c,python,c%23,vb.net,javascript,assembly,php,perl,ruby,swift,r,objective-c)\n",
        "\n",
        "\n"
      ],
      "metadata": {
        "id": "-vuwO4KjWyKV"
      }
    },
    {
      "cell_type": "markdown",
      "source": [
        "<img height=\"400\" src=\"https://mco.dev/img/py.gif\" />\n",
        "\n",
        "[Source](https://www.google.com/url?sa=i&url=https%3A%2F%2Fblog.gopenai.com%2Fhow-python-works-unveiling-the-magic-behind-python-programming-c95ab99f1ee3&psig=AOvVaw0cKy_Fwe-pc44QwiMoEkAK&ust=1727354649845000&source=images&cd=vfe&opi=89978449&ved=0CBQQjhxqFwoTCLCK29mP3ogDFQAAAAAdAAAAABAE)\n"
      ],
      "metadata": {
        "id": "f1X8hc__W8gV"
      }
    },
    {
      "cell_type": "markdown",
      "source": [
        "### The Zen of Python"
      ],
      "metadata": {
        "id": "6d4IP64kW_B1"
      }
    },
    {
      "cell_type": "code",
      "execution_count": null,
      "metadata": {
        "id": "sWr35VG08qcy",
        "colab": {
          "base_uri": "https://localhost:8080/"
        },
        "outputId": "16a9eab3-9d2e-4781-fb4c-2a9b3aa4f6cb"
      },
      "outputs": [
        {
          "output_type": "stream",
          "name": "stdout",
          "text": [
            "The Zen of Python, by Tim Peters\n",
            "\n",
            "Beautiful is better than ugly.\n",
            "Explicit is better than implicit.\n",
            "Simple is better than complex.\n",
            "Complex is better than complicated.\n",
            "Flat is better than nested.\n",
            "Sparse is better than dense.\n",
            "Readability counts.\n",
            "Special cases aren't special enough to break the rules.\n",
            "Although practicality beats purity.\n",
            "Errors should never pass silently.\n",
            "Unless explicitly silenced.\n",
            "In the face of ambiguity, refuse the temptation to guess.\n",
            "There should be one-- and preferably only one --obvious way to do it.\n",
            "Although that way may not be obvious at first unless you're Dutch.\n",
            "Now is better than never.\n",
            "Although never is often better than *right* now.\n",
            "If the implementation is hard to explain, it's a bad idea.\n",
            "If the implementation is easy to explain, it may be a good idea.\n",
            "Namespaces are one honking great idea -- let's do more of those!\n"
          ]
        }
      ],
      "source": [
        "import this"
      ]
    },
    {
      "cell_type": "markdown",
      "source": [
        "## Başlangıç"
      ],
      "metadata": {
        "id": "8NGhxBghW-Y2"
      }
    },
    {
      "cell_type": "markdown",
      "source": [
        "###  Python Yükleme\n",
        "\n",
        "<img height=\"400\" src=\"https://mco.dev/img/pyinstall.png\" />\n",
        "\n",
        "[Source](https://www.python.org/downloads/)\n"
      ],
      "metadata": {
        "id": "4u-XXNm_TRSr"
      }
    },
    {
      "cell_type": "markdown",
      "source": [
        "### Command line ile Python çalıştırma\n",
        "\n",
        "<img height=\"300\" src=\"https://mco.dev/img/pyrun.png\" />\n",
        "\n"
      ],
      "metadata": {
        "id": "dwyHUKvbTX1b"
      }
    },
    {
      "cell_type": "markdown",
      "source": [
        "### Örnek Programlar"
      ],
      "metadata": {
        "id": "3WqNocX-XseJ"
      }
    },
    {
      "cell_type": "markdown",
      "source": [
        "#### Örnek 1 - Çarpma Tablosu Yazdırma"
      ],
      "metadata": {
        "id": "6ErpeTtuXw-o"
      }
    },
    {
      "cell_type": "code",
      "source": [
        "for i in range(1,10):\n",
        "  print(i, end=' ')\n",
        "  for j in range(2, 10):\n",
        "    print(f'{i*j:2}', end=' ')\n",
        "  print()"
      ],
      "metadata": {
        "id": "xf7PyrApTdjr",
        "colab": {
          "base_uri": "https://localhost:8080/"
        },
        "outputId": "43244852-ccea-4ee1-a815-7a95d1103441"
      },
      "execution_count": null,
      "outputs": [
        {
          "output_type": "stream",
          "name": "stdout",
          "text": [
            "1  2  3  4  5  6  7  8  9 \n",
            "2  4  6  8 10 12 14 16 18 \n",
            "3  6  9 12 15 18 21 24 27 \n",
            "4  8 12 16 20 24 28 32 36 \n",
            "5 10 15 20 25 30 35 40 45 \n",
            "6 12 18 24 30 36 42 48 54 \n",
            "7 14 21 28 35 42 49 56 63 \n",
            "8 16 24 32 40 48 56 64 72 \n",
            "9 18 27 36 45 54 63 72 81 \n"
          ]
        }
      ]
    },
    {
      "cell_type": "markdown",
      "source": [
        "#### Örnek 2 -  IMDb Araması"
      ],
      "metadata": {
        "id": "ECW_FnzJX5jp"
      }
    },
    {
      "cell_type": "code",
      "source": [
        "!pip install -q imdbpy\n",
        "from imdb import IMDb\n",
        "from IPython.display import Image"
      ],
      "metadata": {
        "id": "MfqkjiEFTQnz",
        "colab": {
          "base_uri": "https://localhost:8080/"
        },
        "outputId": "49150c7f-b880-4f19-bb3c-db74e82b652b"
      },
      "execution_count": null,
      "outputs": [
        {
          "output_type": "stream",
          "name": "stdout",
          "text": [
            "\u001b[?25l   \u001b[90m━━━━━━━━━━━━━━━━━━━━━━━━━━━━━━━━━━━━━━━━\u001b[0m \u001b[32m0.0/297.2 kB\u001b[0m \u001b[31m?\u001b[0m eta \u001b[36m-:--:--\u001b[0m\r\u001b[2K   \u001b[91m━━━━━━━━━━━━━━━━━━━━━━━━━━━━━━━━━━━━━━━\u001b[0m\u001b[91m╸\u001b[0m \u001b[32m297.0/297.2 kB\u001b[0m \u001b[31m13.3 MB/s\u001b[0m eta \u001b[36m0:00:01\u001b[0m\r\u001b[2K   \u001b[90m━━━━━━━━━━━━━━━━━━━━━━━━━━━━━━━━━━━━━━━━\u001b[0m \u001b[32m297.2/297.2 kB\u001b[0m \u001b[31m7.9 MB/s\u001b[0m eta \u001b[36m0:00:00\u001b[0m\n",
            "\u001b[?25h"
          ]
        }
      ]
    },
    {
      "cell_type": "code",
      "source": [
        "title = 'Harry Potter'\n",
        "imdb = IMDb()  # create imdb API object\n",
        "results = imdb.search_movie(title)\n",
        "limit = 10\n",
        "count = 0\n",
        "\n",
        "for i in results:\n",
        "  if count > limit:\n",
        "    break\n",
        "  count += 1\n",
        "  movie = imdb.get_movie(i.movieID)\n",
        "  if movie.data['kind'] == 'movie':\n",
        "    print(movie, movie.data['year'])\n"
      ],
      "metadata": {
        "id": "zqotz55UX9KQ",
        "colab": {
          "base_uri": "https://localhost:8080/"
        },
        "outputId": "637e3939-56bf-44bb-b6c7-dc55bb70b2a6"
      },
      "execution_count": null,
      "outputs": [
        {
          "output_type": "stream",
          "name": "stdout",
          "text": [
            "Harry Potter and the Sorcerer's Stone 2001\n",
            "Harry Potter and the Goblet of Fire 2005\n",
            "Harry Potter and the Prisoner of Azkaban 2004\n",
            "Harry Potter and the Chamber of Secrets 2002\n",
            "Harry Potter and the Half-Blood Prince 2009\n",
            "Harry Potter and the Order of the Phoenix 2007\n",
            "Harry Potter and the Deathly Hallows: Part 1 2010\n",
            "Harry Potter and the Deathly Hallows: Part 2 2011\n"
          ]
        }
      ]
    },
    {
      "cell_type": "markdown",
      "source": [
        "#### Örnek 3 - Histogram Oluşturma"
      ],
      "metadata": {
        "id": "2kePfyyne0UW"
      }
    },
    {
      "cell_type": "code",
      "source": [
        "import seaborn as sns\n",
        "\n",
        "countries = ['UK', 'UK', 'India', 'UK', 'India', 'UK', 'Sweden',\n",
        "             'India', 'India', 'India', 'India', 'UK', 'India', 'Nigeria',\n",
        "             'US', 'Afghanistan', 'Afghanistan', 'US', 'UK', 'US',\n",
        "             'Afghanistan', 'UK']\n",
        "sns.countplot(countries)"
      ],
      "metadata": {
        "id": "nIRwn13Ae3EW",
        "colab": {
          "base_uri": "https://localhost:8080/",
          "height": 466
        },
        "outputId": "184987a6-61cd-4e98-de36-168e5d8e960c"
      },
      "execution_count": null,
      "outputs": [
        {
          "output_type": "execute_result",
          "data": {
            "text/plain": [
              "<Axes: xlabel='count'>"
            ]
          },
          "metadata": {},
          "execution_count": 5
        },
        {
          "output_type": "display_data",
          "data": {
            "text/plain": [
              "<Figure size 640x480 with 1 Axes>"
            ],
            "image/png": "[encoded data removed]"
          },
          "metadata": {}
        }
      ]
    },
    {
      "cell_type": "markdown",
      "source": [
        "#### Örnek 4 - AI eklentisi ile Colab'te kod oluşturma"
      ],
      "metadata": {
        "id": "bsEXJRThfD22"
      }
    },
    {
      "cell_type": "markdown",
      "source": [
        "Prompt : generate a colorful time series graph, make the values sparse, i.e. fewer than 20"
      ],
      "metadata": {
        "id": "QHd-B6n_fVQG"
      }
    },
    {
      "cell_type": "code",
      "source": [
        "import matplotlib.pyplot as plt\n",
        "import numpy as np\n",
        "import pandas as pd\n",
        "\n",
        "# Generate sparse time series data\n",
        "dates = pd.date_range(start='2023-01-01', periods=15, freq='M') # Fewer than 20 data points\n",
        "values = np.random.rand(len(dates)) * 100\n",
        "\n",
        "# Create a DataFrame\n",
        "time_series_data = pd.DataFrame({'Date': dates, 'Value': values})\n",
        "\n",
        "# Create a colorful time series graph\n",
        "plt.figure(figsize=(10, 6))\n",
        "plt.plot(time_series_data['Date'], time_series_data['Value'], marker='o', linestyle='-', color='teal') # Colorful line and markers\n",
        "plt.title('Sparse Colorful Time Series Graph')\n",
        "plt.xlabel('Date')\n",
        "plt.ylabel('Value')\n",
        "plt.grid(True)\n",
        "plt.show()"
      ],
      "metadata": {
        "id": "fVrQhz6mfW5t",
        "colab": {
          "base_uri": "https://localhost:8080/",
          "height": 598
        },
        "outputId": "9c29c575-8a2b-4357-c257-2e41199412fe"
      },
      "execution_count": null,
      "outputs": [
        {
          "output_type": "stream",
          "name": "stderr",
          "text": [
            "/tmp/ipython-input-3458015145.py:6: FutureWarning: 'M' is deprecated and will be removed in a future version, please use 'ME' instead.\n",
            "  dates = pd.date_range(start='2023-01-01', periods=15, freq='M') # Fewer than 20 data points\n"
          ]
        },
        {
          "output_type": "display_data",
          "data": {
            "text/plain": [
              "<Figure size 1000x600 with 1 Axes>"
            ],
            "image/png": "[encoded data removed]"
          },
          "metadata": {}
        }
      ]
    },
    {
      "cell_type": "code",
      "metadata": {
        "id": "9bibXYqUe5S1"
      },
      "source": [
        "import matplotlib.pyplot as plt\n",
        "import numpy as np\n",
        "import pandas as pd\n",
        "\n",
        "# Generate sparse time series data\n",
        "dates = pd.date_range(start='2023-01-01', periods=15, freq='M') # Fewer than 20 data points\n",
        "values = np.random.rand(len(dates)) * 100\n",
        "\n",
        "# Create a DataFrame\n",
        "time_series_data = pd.DataFrame({'Date': dates, 'Value': values})\n",
        "\n",
        "# Create a colorful time series graph\n",
        "plt.figure(figsize=(10, 6))\n",
        "plt.plot(time_series_data['Date'], time_series_data['Value'], marker='o', linestyle='-', color='teal') # Colorful line and markers\n",
        "plt.title('Sparse Colorful Time Series Graph')\n",
        "plt.xlabel('Date')\n",
        "plt.ylabel('Value')\n",
        "plt.grid(True)\n",
        "plt.show()"
      ],
      "execution_count": null,
      "outputs": []
    },
    {
      "cell_type": "markdown",
      "source": [
        "### Your first Python program"
      ],
      "metadata": {
        "id": "fZ7YhjUUfeA2"
      }
    },
    {
      "cell_type": "code",
      "source": [
        "print('Hello world!')"
      ],
      "metadata": {
        "id": "9-_4elG6feil"
      },
      "execution_count": null,
      "outputs": []
    },
    {
      "cell_type": "markdown",
      "source": [
        "Bağlam olması açısından, işte bu programın 1982’de nasıl yazdığımız:\n",
        "\n",
        "```\n",
        "HELLO    CSECT               The name of this program is 'HELLO'\n",
        " *                            Register 15 points here on entry from OPSYS or caller.\n",
        "          STM   14,12,12(13)  Save registers 14,15, and 0 thru 12 in caller's Save area\n",
        "          LR    12,15         Set up base register with program's entry point address\n",
        "          USING HELLO,12      Tell assembler which register we are using for pgm. base\n",
        "          LA    15,SAVE       Now Point at our own save area\n",
        "          ST    15,8(13)      Set forward chain\n",
        "          ST    13,4(15)      Set back chain               \n",
        "          LR    13,15         Set R13 to address of new save area\n",
        " *                            -end of housekeeping (similar for most programs) -\n",
        "          WTO   'Hello World' Write To Operator  (Operating System macro)\n",
        " *\n",
        "          L     13,4(13)      restore address to caller-provided save area\n",
        "          XC    8(4,13),8(13) Clear forward chain\n",
        "          LM    14,12,12(13)  Restore registers as on entry\n",
        "          DROP  12            The opposite of 'USING'\n",
        "          SR    15,15         Set register 15 to 0 so that the return code (R15) is Zero\n",
        "          BR    14            Return to caller\n",
        " *           \n",
        " SAVE     DS    18F           Define 18 fullwords to save calling program registers\n",
        "          END  HELLO          This is the end of the program\n",
        "\n",
        "```\n",
        "\n",
        "Şimdi neden Python’u sevdiğimi görüyorsun. :)"
      ],
      "metadata": {
        "id": "BxMYGFRAfiL-"
      }
    },
    {
      "cell_type": "markdown",
      "source": [
        "`print` fonksiyonu, bir Python programından çıktı üretmek için bir mekanizma sağlar. Bir diğer fonksiyon ise 'input' fonksiyonudur. Bu, `print` fonksiyonunun  tersidir; programınıza girdi alır. İşte bir örnek:"
      ],
      "metadata": {
        "id": "dKqHpiHsfwJe"
      }
    },
    {
      "cell_type": "code",
      "source": [
        "print('Enter your name: ')\n",
        "name = input()\n",
        "print('Hello', name + '!')"
      ],
      "metadata": {
        "id": "Amriuoj2fsat"
      },
      "execution_count": null,
      "outputs": []
    },
    {
      "cell_type": "markdown",
      "source": [
        "“Girdi almadan önce bir istem (prompt) yazdırmak o kadar yaygın bir kalıptır ki, bunları tek bir fonksiyon çağrısında birleştirebilirsiniz. Şöyle:"
      ],
      "metadata": {
        "id": "O5uiqvZXf_lu"
      }
    },
    {
      "cell_type": "code",
      "source": [
        "name = input('Enter your name: ')\n",
        "print('Hello', name + '!')"
      ],
      "metadata": {
        "id": "W74E7ZLef7A-"
      },
      "execution_count": null,
      "outputs": []
    },
    {
      "cell_type": "markdown",
      "source": [
        "🎉 Tebrikler – artık bir Python programcısısınız! 🎉"
      ],
      "metadata": {
        "id": "R_UIMvbZgFp2"
      }
    },
    {
      "cell_type": "markdown",
      "source": [
        "### Hatalar - İyi programların başına kötü şeyler geldiğinde\n",
        "### Errors - when bad things happen to good programs"
      ],
      "metadata": {
        "id": "qWnrvzZygJJm"
      }
    },
    {
      "cell_type": "code",
      "source": [
        "\"42\" + \"1\""
      ],
      "metadata": {
        "id": "LhymmCDfgRPV"
      },
      "execution_count": null,
      "outputs": []
    },
    {
      "cell_type": "markdown",
      "source": [
        "#### Üç çeşit hata vardır\n",
        "\n",
        "* **syntax errors**: invalid Python\n",
        "```\n",
        "    print'Hello from Python')\n",
        "```\n",
        "\n",
        "* **runtime errors**: legal code tries to do something illegal\n",
        "```\n",
        "    primt('Hello from Python')\n",
        "    print(10 / 0)\n",
        "```\n",
        "* **logic errors**: code is legal and runs fine but it does the wrong thing\n",
        "```\n",
        "    age = birth_year - current_year\n",
        "```"
      ],
      "metadata": {
        "id": "_VjIS-E_gV7O"
      }
    },
    {
      "cell_type": "markdown",
      "source": [
        "### Yorumlar (Comments)"
      ],
      "metadata": {
        "id": "REj8lo7foSa6"
      }
    },
    {
      "cell_type": "markdown",
      "source": [
        "* `#` satırda geriye kalanları \"comment\" (yorum)'a alır.\n",
        "* O satır Python tarafından yok sayılır\n",
        "* kodu belgelemede faydalıdır\n",
        "* boş satırlar için uygundur ve okunabilirliği artırabilir\n",
        "\n",
        "Örnek:\n"
      ],
      "metadata": {
        "id": "B0pQAkdCoXaq"
      }
    },
    {
      "cell_type": "code",
      "source": [
        "# Python bu satırı yok sayar.\n",
        "# print('bu satır yorum halindeyken hiçbir şey yazdırmaz')\n",
        "# Aşağıdaki boş satırlar da yok sayılır...\n",
        "\n",
        "# print('merhaba')\n",
        "\n",
        "# Bir programda istediğim kadar yorum satırı ve boş satır kullanabilirim.\n",
        "# Bunlar benim ve “gelecekteki ben”(\"future me\") için faydalı olacaktır."
      ],
      "metadata": {
        "id": "S8bPosEkon26"
      },
      "execution_count": null,
      "outputs": []
    },
    {
      "cell_type": "markdown",
      "source": [
        "Önceki hücrede 'print' fonksiyon çağrısının önündeki '#' işaretini kaldırmayı deneyin. Buna, bir kod satırının yorumdan çıkarılması (‘uncommenting’) diyoruz.\n",
        "\n",
        "Şimdi '#' işaretini tekrar yerine koyun. Buna da bir kod satırının yoruma alınması (‘commenting out’) diyoruz. Bunu genellikle bir kodun çalışmasını geçici olarak etkinleştirmek ya da devre dışı bırakmak için yaparız.\n"
      ],
      "metadata": {
        "id": "L3r4Vgg2orIK"
      }
    },
    {
      "cell_type": "markdown",
      "source": [
        "### Function Nedir? (Fonksiyon Nedir?)"
      ],
      "metadata": {
        "id": "0m1BxFyvpOcS"
      }
    },
    {
      "cell_type": "markdown",
      "source": [
        "Fonksiyon, belirli bir görevi yerine getiren ve tekrar kullanılabilen bir kod parçasıdır. Az önce iki fonksiyon görmüştük; 'input' ve 'print' fonksiyonları sırasıyla bilgi almak ve göstermek için kullanılır.\n",
        "\n",
        "Bir fonksiyonu, bizden bir görev yapmasını istemek için ‘çağırırız’ (call/invoke). Bunu, fonksiyon adını yazıp ardından parantez (bracket) koyarak yaparız. İsteğe bağlı olarak, parantezlerin içine bazı değerler ekleyebiliriz. Bu değerlere fonksiyon argümanları (arguments) denir. Bu süreci genellikle bir fonksiyona argüman ‘geçmek’ (passing arguments) olarak adlandırırız."
      ],
      "metadata": {
        "id": "N0bFIbc0pXgq"
      }
    },
    {
      "cell_type": "code",
      "source": [
        "print('test')\n",
        "print()\n",
        "print('this', 'is', 'a', 'test')"
      ],
      "metadata": {
        "id": "rWTF3qxuo2zq"
      },
      "execution_count": null,
      "outputs": []
    },
    {
      "cell_type": "markdown",
      "source": [
        "#### print hakkında bilgi\n",
        "\n",
        "Argümansız bir `print` fonksiyon çağrısı, yalnızca boş bir satır yazdırır:"
      ],
      "metadata": {
        "id": "i4r3NrbH7dJ-"
      }
    },
    {
      "cell_type": "code",
      "source": [
        "print()"
      ],
      "metadata": {
        "id": "0m9xaqWnpnPy"
      },
      "execution_count": null,
      "outputs": []
    },
    {
      "cell_type": "code",
      "source": [
        "# Şimdi print fonksiyonunu, adınız gibi başka bir şeyle çağırmayı deneyin...\n",
        "print('adınızı yazınız')"
      ],
      "metadata": {
        "id": "xKxW9wr37tfx"
      },
      "execution_count": null,
      "outputs": []
    },
    {
      "cell_type": "markdown",
      "source": [
        "Fonksiyonlar, bir Python programının temel yapı taşlarıdır. Daha sonra kendi fonksiyonlarınızı nasıl tanımlayacağınızı göreceğiz. Şimdiye kadar sıfır ve bir argümanla yapılan basit bir `print` fonksiyon çağrısı gördük:"
      ],
      "metadata": {
        "id": "6F6RP4OY7rDl"
      }
    },
    {
      "cell_type": "code",
      "source": [
        "print()\n",
        "print('Benim adım Abdullah')"
      ],
      "metadata": {
        "id": "c6KaFSxJBTeW"
      },
      "execution_count": null,
      "outputs": []
    },
    {
      "cell_type": "markdown",
      "source": [
        "Virgüllerle ayrılmış bir argümanlar dizisini de yazdırabiliriz. Bunu yaptığımızda, `print` fonksiyonu dizideki her eleman arasına otomatik olarak bir boşluk karakteri ekler. Şöyle:"
      ],
      "metadata": {
        "id": "YgpOcCE1BfNY"
      }
    },
    {
      "cell_type": "code",
      "source": [
        "print('My', 'name', 'is', 'Marc.')"
      ],
      "metadata": {
        "id": "_c2qrFKpBXDc"
      },
      "execution_count": null,
      "outputs": []
    },
    {
      "cell_type": "markdown",
      "source": [
        "arsayılan olarak, bir `print` ifadesinin sonunda yeni satır karakteri (newline) elde ederiz; ancak bu davranışı end argümanını kullanarak değiştirebiliriz:"
      ],
      "metadata": {
        "id": "1SIM-vGpBi_S"
      }
    },
    {
      "cell_type": "code",
      "source": [
        "# Printing with the end argument.\n",
        "print('Benim adım Abdullah.', end=' ')\n",
        "print('Next line.')\n",
        "\n",
        "# Printing without the end argument.\n",
        "print('Benim adım Abdullah.')\n",
        "print('Next line.')"
      ],
      "metadata": {
        "id": "Scztq_34B3g0"
      },
      "execution_count": null,
      "outputs": []
    },
    {
      "cell_type": "markdown",
      "source": [
        "Ayrıca, `sep` argümanını kullanarak ayırıcı karakter dizisini de değiştirebiliriz. Şöyle:"
      ],
      "metadata": {
        "id": "wJUpOQDhCDtA"
      }
    },
    {
      "cell_type": "code",
      "source": [
        "print('My', 'name', 'is', 'Marc', sep='\\n')"
      ],
      "metadata": {
        "id": "W7m0hOdUCEwL"
      },
      "execution_count": null,
      "outputs": []
    },
    {
      "cell_type": "markdown",
      "source": [
        "Hatta boş (null) bir ayırıcı da kullanabiliriz:"
      ],
      "metadata": {
        "id": "E75t9KwNCGRl"
      }
    },
    {
      "cell_type": "code",
      "source": [
        "print('My', 'name', 'is', 'Marc', sep='', end='')"
      ],
      "metadata": {
        "id": "8fRozAdhCIbn"
      },
      "execution_count": null,
      "outputs": []
    },
    {
      "cell_type": "markdown",
      "source": [
        "### Kullanışlı Python Kaynakları"
      ],
      "metadata": {
        "id": "MGb6BOY6CJ2O"
      }
    },
    {
      "cell_type": "markdown",
      "source": [
        "Official Resources\n",
        "* [The official Python site](https://python.org)\n",
        "* [Install Python](https://python.org/downloads/)\n",
        "\n",
        "Books and Articles\n",
        "* [A Whirlwind Tour of Python](https://jakevdp.github.io/WhirlwindTourOfPython)\n",
        "* [My Favorite Books for Beginning Python Students](https://mco.dev/my-favorite-books-for-beginning-python-students/)\n",
        "* [Spreading the Gospel of Python](https://stackoverflow.blog/2024/05/14/spreading-the-gospel-of-python)\n",
        "* [Why learn Python?](https://stackoverflow.blog/2024/04/25/what-language-should-beginning-programmers-choose)\n",
        "\n",
        "Learning Resources\n",
        "* [codingbat.com](https://codingbat.com/python)\n",
        "* [CodeKata](http://codekata.com)\n",
        "* [calmcode.io](https://calmcode.io/)\n",
        "* [Brilliant.org](https://brilliant.org/courses/programming-python/)\n",
        "* [freecodecamp.com](http://freecodecamp.com)\n",
        "\n",
        "IDEs\n",
        "* [repl.it](https://repl.it)\n",
        "* [vscode](https://code.visualstudio.com/)\n",
        "* [idx.dev](https://idx.dev)\n"
      ],
      "metadata": {
        "id": "3Gz8Xs-8CQKI"
      }
    },
    {
      "cell_type": "markdown",
      "source": [
        "#### Dökümantasyon"
      ],
      "metadata": {
        "id": "o2QSu9S3CZUW"
      }
    },
    {
      "cell_type": "markdown",
      "source": [
        "* [Official Python Documentation](https://python.org/doc/)\n",
        "* `help` fonksiyonu (alttaki gibi)\n",
        "* Google\n",
        "* Stack Overflow\n",
        "* AI - ChatGPT, Co-Pilot and Google Gemini"
      ],
      "metadata": {
        "id": "AI3XHdnACcyO"
      }
    },
    {
      "cell_type": "code",
      "source": [
        "help(print)"
      ],
      "metadata": {
        "id": "o0J9pPddCgoT",
        "colab": {
          "base_uri": "https://localhost:8080/"
        },
        "outputId": "1bc49f86-8659-438d-82e9-238ed7e73346"
      },
      "execution_count": null,
      "outputs": [
        {
          "output_type": "stream",
          "name": "stdout",
          "text": [
            "Help on built-in function print in module builtins:\n",
            "\n",
            "print(*args, sep=' ', end='\\n', file=None, flush=False)\n",
            "    Prints the values to a stream, or to sys.stdout by default.\n",
            "\n",
            "    sep\n",
            "      string inserted between values, default a space.\n",
            "    end\n",
            "      string appended after the last value, default a newline.\n",
            "    file\n",
            "      a file-like object (stream); defaults to the current sys.stdout.\n",
            "    flush\n",
            "      whether to forcibly flush the stream.\n",
            "\n"
          ]
        }
      ]
    }
  ]
}