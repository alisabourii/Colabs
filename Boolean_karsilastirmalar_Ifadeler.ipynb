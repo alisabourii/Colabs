{
  "nbformat": 4,
  "nbformat_minor": 0,
  "metadata": {
    "colab": {
      "provenance": [],
      "toc_visible": true,
      "include_colab_link": true
    },
    "kernelspec": {
      "name": "python3",
      "display_name": "Python 3"
    },
    "language_info": {
      "name": "python"
    }
  },
  "cells": [
    {
      "cell_type": "markdown",
      "metadata": {
        "id": "view-in-github",
        "colab_type": "text"
      },
      "source": [
        "<a href=\"https://colab.research.google.com/github/alisabourii/Colabs/blob/main/Boolean_karsilastirmalar_Ifadeler.ipynb\" target=\"_parent\"><img src=\"https://colab.research.google.com/assets/colab-badge.svg\" alt=\"Open In Colab\"/></a>"
      ]
    },
    {
      "cell_type": "markdown",
      "source": [
        "# Notebook 3 - Boolean Karşılaştırmaları, Boolean Operatörleri ve İfadeler\n",
        "\n",
        "**Bu not defterinin kendi kopyanızı, yukarıdaki menü çubuğundan Dosya → Drive’a kopya olarak kaydet seçeneğini seçerek oluşturabilirsiniz.**\n",
        "\n",
        "Bu derste öğrenecekleriniz:\n",
        "Python’daki türler hakkında daha fazla bilgi\n",
        "Karşılaştırma operatörleri\n",
        "Boolean (mantıksal) operatörler\n",
        "Değerleri, değişkenleri ve operatörleri birleştirerek ifadeler oluşturma"
      ],
      "metadata": {
        "id": "mfGvFV6WLjI1"
      }
    },
    {
      "cell_type": "markdown",
      "source": [
        "## Daha Fazla Veri Tipleri\n",
        "\n",
        "Python’da değerlerin bir türü (type) vardır. Önceki derste üç veri türünü görmüştük: int (tamsayılar), float (ondalıklı sayılar) ve string (metinler). Bu derste ise bazı ek türleri öğreneceğiz, bir değişkenin türünü nasıl belirleyeceğimizi, bir değeri bir türden başka bir türe nasıl dönüştürebileceğimizi ve değerleri, değişkenleri ve operatörleri birleştirerek karmaşık ifadeler oluşturmayı öğreneceğiz."
      ],
      "metadata": {
        "id": "LOPDElnTtZ_3"
      }
    },
    {
      "cell_type": "markdown",
      "source": [
        "### The Boolean (`bool`) Tipi"
      ],
      "metadata": {
        "id": "PqEElVkjMx0U"
      }
    },
    {
      "cell_type": "markdown",
      "source": [
        "Python, booleans adı verilen özel bir türü destekler. Python’da bu tür `bool`  olarak yazılır ve bir şeyin doğru (true) ya da yanlış (false) olduğunu belirtmek için kullanılır.\n",
        "Boolean türündeki bir değişken yalnızca iki olası değerden birine sahip olabilir:\n",
        "\n",
        "* `True`\n",
        "* `False`"
      ],
      "metadata": {
        "id": "9v1wuSdBM4Gn"
      }
    },
    {
      "cell_type": "markdown",
      "source": [
        "Bir **sayının** boolean olarak değerlendirilmesinde aşağıdaki kurallar geçerlidir.\n",
        "\n",
        "* 0, `False` olarak değerlendirilir.\n",
        "* 0.0, `False` olarak değerlendirilir.\n",
        "* Diğer sayısal ifadeler `True` olarak değerlendirilir.\n",
        "\n",
        "Bir **string**'in boolean olarak değerlendirilmesinde aşağıdaki kurallar geçerlidir.\n",
        "\n",
        "* Boş string (`\"\"` and `''`), `False` olarak değerlendirilir.\n",
        "* Diğer tüm stringler `True` olarak değerlendirilir.\n",
        "\n",
        "Python’daki Boolean Değerlendirme Yasası: **“Yokluk yanlıştır, varlık doğrudur.”**"
      ],
      "metadata": {
        "id": "1RhUxhsoM7SJ"
      }
    },
    {
      "cell_type": "markdown",
      "source": [
        "### None Tipi"
      ],
      "metadata": {
        "id": "YtDLrMs2M-_C"
      }
    },
    {
      "cell_type": "markdown",
      "source": [
        "Python’da `None`  adlı özel bir tür vardır ve bu, “değer yok” (no value) anlamına gelir. Bir değişkeni başlatmak istiyor ancak başlangıç değeri olarak ne vereceğinizden emin değilseniz, None iyi bir seçimdir. Örneğin:\n",
        "\n",
        "```name = None```\n",
        "\n",
        "None, boolean ifadelerde her zaman False (yanlış) olarak değerlendirilir.\n"
      ],
      "metadata": {
        "id": "8wM1pnKbNCkk"
      }
    },
    {
      "cell_type": "markdown",
      "source": [
        "### Tiplerin dönüşümü ve `type` Fonksiyonu\n",
        "\n",
        "\n",
        "\n"
      ],
      "metadata": {
        "id": "OVSdi5n7NGHy"
      }
    },
    {
      "cell_type": "markdown",
      "source": [
        "### Type Dönüşüm (Conversion) Fonksiyonları\n",
        "\n",
        "Bunlar, bir türden diğerine dönüştürme yapmak için kullanılan Python’un yerleşik (built-in) fonksiyonlarıdır.\n",
        "Fonksiyonun adı, dönüştürülmek istenen türün adını yansıtır ve dönüştürmek istediğiniz değişkeni veya değeri bu fonksiyona argüman olarak verirsiniz.\n",
        "\n",
        "* `int(x)` -  *x* değerini tam sayıya dönüştürür -  converts *x* to an integer\n",
        "* `float(x)` - *x* değerini ondalık sayıya dönüştürür - converts *x* to a floating point number\n",
        "* `str(x)` - *x* değerini string'e dönüştürür -  converts *x* to a string\n",
        "* `bool(x)` - *x* değerini boolean ifadeye dönüştürür -  converts *x* to a boolean value\n"
      ],
      "metadata": {
        "id": "uzIk00WrNNAu"
      }
    },
    {
      "cell_type": "markdown",
      "source": [
        "### Veri tipini ne zaman dönüştürmeliyiz?\n",
        "\n",
        "Bir ifade farklı türler içeriyorsa örneğin:\n",
        "\n",
        "* `name + number`\n",
        "* `age * 365`\n",
        "\n",
        "veya bir fonksiyona, beklediği türden farklı bir türde değer gönderirseniz hata alabilirsiniz.\n",
        "Örneğin, `len()` fonksiyonu bir stringin uzunluğunu döndürür, bu nedenle kendisine verilen değerin string olmasını bekler.\n",
        "Aşağıdaki örnek çalışmaz:\n",
        "\n",
        "`print(len(42))`\n",
        "\n",
        "Ama bu örnek doğru şekilde çalışır:\n",
        "\n",
        "`print(len(str(42)))`\n",
        "\n",
        "Her iki denemeyi de aşağıdaki kod hücresinde deneyerek aralarındaki farkı gözlemleyebilirsiniz."
      ],
      "metadata": {
        "id": "VVDWF45KNQfA"
      }
    },
    {
      "cell_type": "code",
      "source": [],
      "metadata": {
        "id": "oNSezejmw67M"
      },
      "execution_count": null,
      "outputs": []
    },
    {
      "cell_type": "markdown",
      "source": [
        "Dönüşüm yapmanız gereken bir örnek aşağıdaki gibidir.\n",
        "\n",
        "```\n",
        "birth_year = input(\"Enter the year you were born:\")\n",
        "age = 2025 - birth_year\n",
        "print(f\"You are {age} years old\")\n",
        "```\n",
        "\n",
        "Aşağıdaki kodu çalıştırmayı deneyin; hata verecektir. Hata mesajını inceledikten sonra, kodu düzelterek çalışır hale getirmeye çalışın."
      ],
      "metadata": {
        "id": "ZiJscZs2K0tE"
      }
    },
    {
      "cell_type": "code",
      "source": [
        "birth_year = input(\"Enter the year you were born:\")\n",
        "age = 2025 - birth_year\n",
        "print(f\"You are {age} years old\")"
      ],
      "metadata": {
        "id": "BUHww6rQLQH_"
      },
      "execution_count": null,
      "outputs": []
    },
    {
      "cell_type": "markdown",
      "source": [
        "### type() fonksiyonu\n",
        "\n",
        "Yerleşik `type` fonksiyonu, kendisine verilen değerin türünü (type) döndürür.\n",
        "Bu tür bilgisi, şu biçimde bir string olarak gösterilir: `<class type-name>`.\n",
        "Şimdilik bu biçim hakkında fazla endişelenmenize gerek yok — sadece `class` ifadesinden sonraki kısmın, değerin tür adını gösterdiğini bilmeniz yeterli.\n",
        "\n",
        "```\n",
        ">>> type(123)\n",
        "<class 'int'>\n",
        "```\n",
        "\n",
        "`type` fonksiyonunu denemek için bir sonraki kodu çalıştırın."
      ],
      "metadata": {
        "id": "ogBtCqzqNVIS"
      }
    },
    {
      "cell_type": "code",
      "source": [
        "type_int = type(123)\n",
        "type_float = type(3.14)\n",
        "type_str = type(\"a string\")\n",
        "type_bool = type(True)\n",
        "type_none = type(None)\n",
        "\n",
        "print(type_int, type_float, type_str, type_bool, type_none)"
      ],
      "metadata": {
        "id": "5HsIU2rDNeEl"
      },
      "execution_count": null,
      "outputs": []
    },
    {
      "cell_type": "code",
      "source": [
        "s = input(\"enter your age: \")\n",
        "print(type(s))"
      ],
      "metadata": {
        "id": "tlEPjlhI6p9I"
      },
      "execution_count": null,
      "outputs": []
    },
    {
      "cell_type": "markdown",
      "source": [
        "## Karşılaştırma Operatörleri\n",
        "\n"
      ],
      "metadata": {
        "id": "hBrzYShvNkkG"
      }
    },
    {
      "cell_type": "markdown",
      "source": [
        "İsimlerinden de anlaşılacağı üzere, karşılaştırma operatörleri (comparison operators) değerleri karşılaştırmamızı sağlar ve karşılaştırmanın sonucuna göre `True` (doğru) veya `False` (yanlış) döndüren bir boolean değer üretir.\n",
        "Aşağıdaki tablo, Python’da en sık kullanılan karşılaştırma operatörlerini ve bunların sayılar ile stringler üzerinde nasıl çalıştığını özetlemektedir.\n",
        "\n",
        "|operator|operation on numbers|operation on strings|\n",
        "|--------|--------------------|--------------------|\n",
        "|==|eşittir |eşittir|\n",
        "|!=|eşit değildir|eşit değildir|\n",
        "|>|büyüktür| alfabetik olarak (lexicographically) büyüktür|\n",
        "|>=|büyük eşittir|alfabetik olarak (lexicographically) büyük eşittir|\n",
        "|<|küçüktür|alfabetik olarak (lexicographically) küçüktür|\n",
        "|<=|küçük eşittir|alfabetik olarak (lexicographically) küçük eşittir|"
      ],
      "metadata": {
        "id": "G_I6sd1ANlxp"
      }
    },
    {
      "cell_type": "markdown",
      "source": [
        "### ALIŞTIRMA\n",
        "\n",
        "Aşağıdaki ifadelerin sonucunun (`True` or `False`) olup olmadığını tartışın?\n",
        "\n",
        "* `123 == 10`\n",
        "* `10 == 123`\n",
        "* `123 == 123`\n",
        "* `123 != 321`\n",
        "* `123 != 123`\n",
        "* `age == 64`\n",
        "\n",
        "* `\"andrew\" == \"marc\"`\n",
        "* `\"marc\" == \"andrew\"`\n",
        "* `\"marc\" == \"marc\"`\n",
        "* `\"marc\" != \"Marc\"`\n",
        "\n",
        "### `>` ve `>=`\n",
        "* `123 > 10`\n",
        "* `10 > 123`\n",
        "* `123 > 123`\n",
        "* `123 >= 123`\n",
        "* `age >= 65`\n",
        "* `age > min_age`\n",
        "\n",
        "* `\"fred\" > \"marc\"`\n",
        "* `\"marc\" > \"fred\"`\n",
        "* `\"marc\" >= \"marc\"`\n",
        "* `\"marc\" > \"Marc\"`"
      ],
      "metadata": {
        "id": "UFHH2yJ4XsNQ"
      }
    },
    {
      "cell_type": "markdown",
      "source": [
        "## Boolean Operatörler - `and`, `or`, ve `not`\n",
        "\n",
        "Boolean operatörleri, Python’daki özel operatörlerdir ve gerçek dünyada doğruluk değerlerini nasıl birleştiriyorsak, boolean değerlerini de mantıksal biçimlerde birleştirmemizi sağlar.\n",
        "Bir **and** ifadesine örnek olarak şu verilebilir:\n",
        "“Özelliklerini beğenirsem ve fiyatı düşükse yeni bir telefon alırım.”\n",
        "Üç temel boolean operatörü vardır: `and`, `or` ve `not`.\n",
        "Bir sonraki hücrelerde bunların her birine ait örneklere bakacağız."
      ],
      "metadata": {
        "id": "GTamPNU8NwEc"
      }
    },
    {
      "cell_type": "markdown",
      "source": [
        "### Boolean `and`\n",
        "\n",
        "* `A and B`\n",
        "\n",
        "bunun sonucu yalnızca A ve B her ikisi de True olduğunda `True`  olur; diğer tüm durumlarda `False`  döner.\n",
        "\n",
        "Örnek:\n",
        "\n",
        "* Hava sadece sıcak ve güneşli olduğu zaman bisiklet sürerim.\n",
        "* Başka bir deyişle, eğer hava güneşli `is_sunny` ve hava sıcak `is_warm` değeleri `True` ise, bisiklet süreceğim.\n",
        "\n",
        "Python...\n",
        "```\n",
        "if is_sunny and is_warm:\n",
        "    print(\"ride bike\")\n",
        "```\n",
        "\n",
        "Henüz `if` ifadelerini öğrenmedik, bu yüzden önceki yapıya aşina değilseniz endişelenmeyin. Bu yapı, bir boolean ifadenin değerini kontrol etmenin basit bir yoludur; ancak `if` ifadelerini bir sonraki derste daha ayrıntılı olarak inceleyeceğiz.\n"
      ],
      "metadata": {
        "id": "5uzIu5wwNxCq"
      }
    },
    {
      "cell_type": "code",
      "source": [
        "is_sunny = False\n",
        "is_warm = False\n",
        "print(is_sunny and is_warm)"
      ],
      "metadata": {
        "id": "PfzPhjzdfr5W"
      },
      "execution_count": null,
      "outputs": []
    },
    {
      "cell_type": "markdown",
      "source": [
        "##### Boolean `and` için doğruluk tablosu (Truth Table )\n",
        "|`var1`|`var2`|`var1 and var2`|\n",
        "|------|------|---------------|\n",
        "|`False`|`False`|`False`|\n",
        "|`True`|`False`|`False`|\n",
        "|`False`|`True`|`False`|\n",
        "|`True`|`True`|`True`|"
      ],
      "metadata": {
        "id": "90Arbj1TN0mK"
      }
    },
    {
      "cell_type": "markdown",
      "source": [
        "### Boolean `or`\n",
        "\n",
        "* `A or B`\n",
        "\n",
        "bunun sonucu eğer A ve B'den bir tanesi `True` ya da her ikisi de True olduğunda `True` olur; diğer tüm durumlarda `False`  döner.\n",
        "\n",
        "Örnek:\n",
        "\n",
        "* Hava güneşli, sıcak ya da her ikisi birden olduğunda bisiklet sürerim.\n",
        "* Başka bir deyişle, eğer hava güneşli `is_sunny` veya hava sıcak `is_warm` değeleri `True` ise ya da her iki değer `True` ise bisiklet süreceğim.\n",
        "\n",
        "In Python...\n",
        "```\n",
        "if is_sunny or is_warm:\n",
        "  print(\"ride bike\")\n",
        "```"
      ],
      "metadata": {
        "id": "9QZ93qNgN5Oh"
      }
    },
    {
      "cell_type": "markdown",
      "source": [
        "#### Boolean `or` doğruluk tablosu (Truth Table)\n",
        "\n",
        "|`var1`|`var2`|`var1 or var2`|\n",
        "|------|------|---------------|\n",
        "|`False`|`False`|`False`|\n",
        "|`True`|`False`|`True`|\n",
        "|`False`|`True`|`True`|\n",
        "|`True`|`True`|`True`|"
      ],
      "metadata": {
        "id": "OVf9BfHTN8k3"
      }
    },
    {
      "cell_type": "markdown",
      "source": [
        "### Boolean Not\n",
        "\n",
        "* `not A`\n",
        "\n",
        "Eğer A `True` ise sonuç `False` olur,\n",
        "eğer A `False` ise sonuç `True` olur."
      ],
      "metadata": {
        "id": "WFlkXCULN_yJ"
      }
    },
    {
      "cell_type": "markdown",
      "source": [
        "#### Boolean `not` doğruluk tablosu (Truth Table).\n",
        "\n",
        "|`var1`|`not var1`|\n",
        "|------|---------|\n",
        "|`False`|`True`|\n",
        "|`True`|`False`|"
      ],
      "metadata": {
        "id": "4OEHQqVjOCkM"
      }
    },
    {
      "cell_type": "code",
      "source": [
        "is_rainy = False\n",
        "is_warm = True\n",
        "\n",
        "if not is_rainy and is_warm:\n",
        "    print(\"ride bike\")\n",
        "else:\n",
        "    print(\"don't ride today\")"
      ],
      "metadata": {
        "id": "M4HpTb0Z9UYJ"
      },
      "execution_count": null,
      "outputs": []
    },
    {
      "cell_type": "markdown",
      "metadata": {
        "id": "Cy6lsdXbBhPa"
      },
      "source": [
        "## İfadeler (Expressions)"
      ]
    },
    {
      "cell_type": "markdown",
      "source": [
        "* Python, değerleri, değişkenleri ve operatörleri birleştirerek ifade (expression) adı verilen daha büyük birimler oluşturmamıza olanak tanır.\n",
        "* Bir ifadeyi değerlendirirken Python, değişken adlarını onların temsil ettiği değerlerle otomatik olarak değiştirir.\n",
        "* İfadeler birçok yerde karşımıza çıkar, örneğin:\n",
        "  * sayısal hesaplamalar\n",
        "    * `2 + 2`\n",
        "  * atama ifadelerinde\n",
        "    * `age = age + 1    # we do this every birthday`\n",
        "  * fonksiyon çağırmalarında\n",
        "    * `print(age * 365) # number of days alive`\n",
        "* Öğrendikçe, ifadelerin Python’un hemen her yerinde karşımıza çıktığını göreceğiz."
      ],
      "metadata": {
        "id": "ZhpEy8pPQqGz"
      }
    },
    {
      "cell_type": "markdown",
      "source": [
        "#### Alıştırma"
      ],
      "metadata": {
        "id": "ESIijKpWH26b"
      }
    },
    {
      "cell_type": "markdown",
      "metadata": {
        "id": "F0as3X9oCvJa"
      },
      "source": [
        " `input`, `print` fonksiyonlarını birleştirelim ve hava sıcaklık değerini dönüştüren bir **ifade** yazalım. Aşağıdaki formül Celcius değerini Fahrenheit değerine dönüştürmektedir (ya da tam tersi);\n",
        "\n",
        "- `F = (C + 32) * 9/5`\n",
        "- `C = (F - 32) * 5/9`"
      ]
    },
    {
      "cell_type": "code",
      "metadata": {
        "id": "DVdOM1myC_hD"
      },
      "source": [
        "degrees_f = float(input('Enter number of degrees in fahrenheit: '))\n",
        "# Add an assignment statement that computes degrees_c as a function of degrees_f\n",
        "print(f'{degrees_f}°F = {degrees_c}°C')"
      ],
      "execution_count": null,
      "outputs": []
    },
    {
      "cell_type": "code",
      "metadata": {
        "id": "FDxc8y9BNnP-"
      },
      "source": [
        "degrees_c = input('Enter number of degrees celsius: ')\n",
        "# Add an assignment statement that computes degrees_f as a function of degrees_c\n",
        "print(f'{degrees_c}°C= {degrees_f}°F')"
      ],
      "execution_count": null,
      "outputs": []
    },
    {
      "cell_type": "markdown",
      "source": [
        "### İfade çeşitleri\n",
        "\n",
        "* aritmetik ifadeler\n",
        "\n",
        "`tax = income * tax_rate`\n",
        "\n",
        "* karşılaştırmalı ifadeler\n",
        "\n",
        "`error_count <= 0`\n",
        "\n",
        "* boolean ifadeler\n",
        "\n",
        "`more_to_do and no_errors`\n",
        "\n",
        "* bunların birleşmiş halleri.\n",
        "\n",
        "`valid_ticket and (cur_day - purchase_day) < exp_window`"
      ],
      "metadata": {
        "id": "NWQDio7OQ7Ss"
      }
    },
    {
      "cell_type": "markdown",
      "source": [
        "### Değerlendirme sırası\n",
        "\n",
        "Python, karmaşık bir ifadeyi değerlendirirken doğru sırayı nasıl bilir?\n",
        "\n",
        "Örnek: `4 + 1 * 5`\n",
        "\n",
        "Bu `(4 + 1) * 5` yani `25` mi?\n",
        "Yoksa `4 + (1 * 5)` yani `9` mu?\n",
        "\n",
        "Başka bir örnek:  True or False and False\n",
        "\n",
        "Bu `(True or False) and False`, yani `False` mu?  \n",
        "Yoksa `True or (False and False)`, yani `True` mu?\n",
        "\n",
        "Python, bu belirsizliği önlemek ve ifadeleri tahmin edilebilir bir şekilde değerlendirmek için işlem önceliği kurallarını (operator precedence rules) kullanır."
      ],
      "metadata": {
        "id": "J_VZLf1QRAXa"
      }
    },
    {
      "cell_type": "markdown",
      "source": [
        "### Basitleştirilmiş Python İşlem Önceliği Kuralları\n",
        "\n",
        "Bu liste, tam kuralların bir alt kümesidir (en yüksekten en düşüğe öncelik sırasına göre):\n",
        "\n",
        "* Parantezler (içten dışa, soldan sağa)\n",
        "* Üs alma (soldan sağa)\n",
        "* Çarpma, bölme, mod alma (soldan sağa)\n",
        "* Toplama, çıkarma (soldan sağa)\n",
        "* Karşılaştırmalar (soldan sağa)\n",
        "* Boolean not\n",
        "* Boolean and\n",
        "* Boolean or\n",
        "\n",
        "[The Official Rules](https://docs.python.org/3/reference/expressions.html#operator-precedence)"
      ],
      "metadata": {
        "id": "-iFwjdFZRDkY"
      }
    },
    {
      "cell_type": "markdown",
      "source": [
        "### Bir tavsiye\n",
        "\n",
        "İşlem önceliği kuralı: “Emin değilsen, parantez kullan.”\n",
        "\n",
        "Ben parantezleri bolca kullanırım çünkü:\n",
        "* İşlem önceliği kurallarını ezberlememe gerek kalmaz.\n",
        "* Beklenmedik sonuçlardan endişe etmem.\n",
        "* Kodum daha okunabilir hale gelir.\n",
        "\n",
        "Örnek olarak şu ifadeyi incelersek — bu ifade önce `A and B` yi, sonra `C and D`yi değerlendirir ve son olarak bu iki sonucun boolean `or` işlemini alır:\n",
        "\n",
        "`A and B or C and D`\n",
        "\n",
        "Ancak şu şekilde açıkça yazmayı tercih edersek, böylece her seferinde işlem önceliğini düşünmek zorunda kalmayız:\n",
        "\n",
        "`(A and B) or (C and D)`"
      ],
      "metadata": {
        "id": "AWaVO8AORHZA"
      }
    },
    {
      "cell_type": "code",
      "source": [],
      "metadata": {
        "id": "6Cl4xQdaXJC6"
      },
      "execution_count": null,
      "outputs": []
    },
    {
      "cell_type": "markdown",
      "source": [
        "## Alıştırmalar"
      ],
      "metadata": {
        "id": "jjLV5OkN6MWS"
      }
    },
    {
      "cell_type": "markdown",
      "source": [
        "Aşağıdaki ifadeleri önce zihninizden değerlendirip tahmin edin, ardından cevaplarınızı aşağıdaki kod hücresinde kontrol edin...\n",
        "\n",
        "* `2 + 3 * 4 + 5`\n",
        "* `(2 + 3) * (4 + 5)`\n",
        "* `1 * 2 + 3 * 4 + 5 * 6`\n",
        "* `100 / 25 / 2`\n",
        "* `(100 / 33) <= 3`\n",
        "* `(100 // 33) <= 3`\n",
        "* `True and False and True`\n",
        "* `True and True or False and False`\n",
        "* `100 % 99`\n",
        "* `(100 / 100) // (100 % 100)`"
      ],
      "metadata": {
        "id": "v77dX6MsRKiz"
      }
    },
    {
      "cell_type": "code",
      "source": [
        "print(2 + 3 * 4 + 5)\n",
        "print((2 + 3) * (4 + 5))\n",
        "print(1 * 2 + 3 * 4 + 5 * 6)\n",
        "print(100 / 25 / 2)\n",
        "print((100 / 33) <= 3)\n",
        "print((100 // 33) <= 3)\n",
        "print(True and False and True)\n",
        "print(True and True or False and False)\n",
        "print(100 % 99)\n",
        "print((100 / 100) // (100 % 100))"
      ],
      "metadata": {
        "id": "JfH1EPqFImOo"
      },
      "execution_count": null,
      "outputs": []
    },
    {
      "cell_type": "markdown",
      "source": [
        "Aşağıdaki değişken ve fonksiyonlara sahip olduğumuzu varsayalım:\n",
        "\n",
        "- `customer_id` - her müşteri için benzersiz bir tanımlayıcı\n",
        "- `customer_age` - müşterinin yaşı (yıl cinsinden)\n",
        "- `active_marketing_campaign` - yeni bir pazarlama kampanyası başlatmamıza izin veriliyorsa `True` , aksi halde `False`\n",
        "- `purchased(customer_id)` - müşteri ürünü zaten satın aldıysa `True` , aksi halde `False`\n",
        "\n",
        "Run the following cell to initialize three variables."
      ],
      "metadata": {
        "id": "uN-abTpn6Szi"
      }
    },
    {
      "cell_type": "code",
      "source": [
        "customer_id = 987\n",
        "customer_age = 49\n",
        "active_marketing_campaign = True"
      ],
      "metadata": {
        "id": "GfxSZHS9nhSW"
      },
      "execution_count": null,
      "outputs": []
    },
    {
      "cell_type": "markdown",
      "source": [
        "Pazarlama departmanı yeni bir kampanya başlatmak istiyor.\n",
        "Yeni bir kampanya başlatmanın uygun olup olmadığını belirlemek için bir ifade formüle edin."
      ],
      "metadata": {
        "id": "sbJEUfjV88ou"
      }
    },
    {
      "cell_type": "code",
      "source": [],
      "metadata": {
        "id": "Eig9uJ6Q9MzZ"
      },
      "execution_count": null,
      "outputs": []
    },
    {
      "cell_type": "markdown",
      "source": [
        "Pazarlama ekibi, indirimi yalnızca yetişkinlere sunabileceğinizi söylüyor.\n",
        "Bir pazarlama kampanyası başlatmanın uygun olup olmadığını ve müşterinin 18 yaşında veya daha büyük olup olmadığını belirleyecek bir ifade oluşturun."
      ],
      "metadata": {
        "id": "IRhuTi4U9NPA"
      }
    },
    {
      "cell_type": "code",
      "source": [],
      "metadata": {
        "id": "-k2Y2ZC8-H-z"
      },
      "execution_count": null,
      "outputs": []
    },
    {
      "cell_type": "markdown",
      "source": [
        "Pazarlama ekibi, bu promosyonla çok fazla kişiyi rahatsız ettiğinizi söylüyor.\n",
        "Ürünü zaten satın almış kişileri hariç tutarak önceki boolean ifadesini geliştirin."
      ],
      "metadata": {
        "id": "IBOzLTdk-GuR"
      }
    },
    {
      "cell_type": "code",
      "source": [],
      "metadata": {
        "id": "7kH4f5mI-bFl"
      },
      "execution_count": null,
      "outputs": []
    },
    {
      "cell_type": "markdown",
      "source": [
        "Önceki ifadenin beklenen türde (örneğin bool) sonuç verip vermediğini doğrulamak için yerleşik bir fonksiyon kullanarak bir `print`  ifadesi yazın:\n"
      ],
      "metadata": {
        "id": "o1UKEb5V9Qwg"
      }
    },
    {
      "cell_type": "markdown",
      "source": [
        "Aşağıdaki değişkenlerin olduğunu varsayın;\n",
        "\n",
        "- `birth_year` - müşterinin doğum yılı bir **string** (metin) olarak tutar\n",
        "- `cur_year` - mevcut yılı **string** (metin) olarak tutar\n",
        "\n",
        "Müşterinin şu anki yaşını hesaplayıp yazdırmak için aşağıdaki aritmetik ifadeyi kullanabilirsiniz:"
      ],
      "metadata": {
        "id": "bbIjbf2O_JJZ"
      }
    },
    {
      "cell_type": "code",
      "source": [],
      "metadata": {
        "id": "ANUB1h0sJBvi"
      },
      "execution_count": null,
      "outputs": []
    }
  ]
}