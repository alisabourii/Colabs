{
  "nbformat": 4,
  "nbformat_minor": 0,
  "metadata": {
    "colab": {
      "private_outputs": true,
      "provenance": [],
      "authorship_tag": "ABX9TyMJYIgMZFtytDtsLpPKpfJc",
      "include_colab_link": true
    },
    "kernelspec": {
      "name": "python3",
      "display_name": "Python 3"
    },
    "language_info": {
      "name": "python"
    }
  },
  "cells": [
    {
      "cell_type": "markdown",
      "metadata": {
        "id": "view-in-github",
        "colab_type": "text"
      },
      "source": [
        "<a href=\"https://colab.research.google.com/github/alisabourii/Colabs/blob/main/basicRememberTests.ipynb\" target=\"_parent\"><img src=\"https://colab.research.google.com/assets/colab-badge.svg\" alt=\"Open In Colab\"/></a>"
      ]
    },
    {
      "cell_type": "code",
      "execution_count": null,
      "metadata": {
        "id": "3YjAefDbrR7n"
      },
      "outputs": [],
      "source": [
        "import pandas as pd"
      ]
    },
    {
      "cell_type": "code",
      "source": [
        "!pip install scikit-image"
      ],
      "metadata": {
        "id": "F33ZqBcjXedr"
      },
      "execution_count": null,
      "outputs": []
    },
    {
      "cell_type": "code",
      "source": [
        "from skimage import data\n",
        "rocket_img = data.rocket()\n",
        "rocket_img"
      ],
      "metadata": {
        "id": "WBNmFL1mXvwg",
        "collapsed": true
      },
      "execution_count": null,
      "outputs": []
    },
    {
      "cell_type": "code",
      "source": [
        "from skimage import color\n",
        "rocket_img = data.rocket()\n",
        "grayscale = color.rgb2gray(rocket_img)\n",
        "rgb = color.gray2rgb(grayscale)\n",
        "\n",
        "grayscale"
      ],
      "metadata": {
        "id": "6J2u74EvYIVV"
      },
      "execution_count": null,
      "outputs": []
    },
    {
      "cell_type": "code",
      "source": [
        "# Import the modules from skimage\n",
        "from skimage import data, color\n",
        "\n",
        "# Load the rocket image\n",
        "rocket = data.rocket()\n",
        "\n",
        "# Convert the image to grayscale\n",
        "gray_scaled_rocket = color.rgb2gray(rocket)\n",
        "\n",
        "# Show the original image\n",
        "show_image(rocket, 'Original RGB image')\n",
        "\n",
        "# Show the grayscale image\n",
        "show_image(gray_scaled_rocket, 'Grayscale image')"
      ],
      "metadata": {
        "id": "ipSrk0WA6so-"
      },
      "execution_count": null,
      "outputs": []
    }
  ]
}